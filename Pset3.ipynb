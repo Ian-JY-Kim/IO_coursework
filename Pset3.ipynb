{
 "cells": [
  {
   "cell_type": "markdown",
   "id": "494b0e3c",
   "metadata": {},
   "source": [
    "# <center>Empirical IO Assignment 3</center>\n",
    "## <center>Ian Jaeyeon Kim</center>"
   ]
  },
  {
   "cell_type": "code",
   "execution_count": 1,
   "id": "0dbffdd8",
   "metadata": {},
   "outputs": [],
   "source": [
    "import numpy as np\n",
    "import pandas as pd\n",
    "from pandas import DataFrame as df\n",
    "from scipy.optimize import root\n",
    "import statsmodels.api as sm\n",
    "import time\n",
    "import statsmodels.api as sm\n",
    "import linearmodels\n",
    "from statsmodels.iolib.summary2 import summary_col\n",
    "from linearmodels.iv import IV2SLS\n",
    "import pyblp\n",
    "import warnings\n",
    "warnings.filterwarnings(action='ignore')\n",
    "import matplotlib.pyplot as plt"
   ]
  },
  {
   "cell_type": "markdown",
   "id": "15dfe124",
   "metadata": {},
   "source": [
    "# Roadmap for Part2 (Q1, Q2, Q3)"
   ]
  },
  {
   "cell_type": "markdown",
   "id": "2a0a694b",
   "metadata": {},
   "source": [
    "* Conditional indirect utility of consumer $i$, $U_{ijt}(x_j, p_j, \\xi_j; \\alpha, \\beta)$, is a function of x, satellite, wired, price with parameters `𝛼`, `𝛽(1)`, `𝛽(2)`, and, `𝛽(3)`.\n",
    "* But, to generate fake dataset here we assume parameter values$(\\alpha, \\beta)$ and draw product related data$(x_j , \\xi_j)$.\n",
    "* Hence,  $U_{ijt}(\\overline{x_j}, p_j, \\overline{\\xi_j}; \\overline{\\alpha}, \\overline{\\beta})$ becomes a function of price level. And thereafter $s_j(p)$ becomes a function of prices.\n",
    "* Furthermore, since we exogenously put parameters $\\gamma_0, \\gamma_1$ to cost functions, first order conditions derived from the bertrand nash equilibrium are now reduced to a root finding problem with respect to prices. \n",
    "* Hence, using root finding algorithm(or fixed point algorithm) we can <b>find market prices</b> under the given parametric assumptions and data generating process. \n",
    "* Subsequently, using the derived market prices we can <b>derive observed market shares</b>. "
   ]
  },
  {
   "cell_type": "markdown",
   "id": "e40a24a4",
   "metadata": {},
   "source": [
    "# Q1. Draw x, w, xi, omega"
   ]
  },
  {
   "cell_type": "code",
   "execution_count": 119,
   "id": "43a8546a",
   "metadata": {},
   "outputs": [],
   "source": [
    "# define exogenously given parameters\n",
    "𝛼 = -2 \n",
    "𝛽_1 = 1\n",
    "𝛾_0 = 1/2\n",
    "𝛾_1 = 1/4"
   ]
  },
  {
   "cell_type": "code",
   "execution_count": 3,
   "id": "5da9243e",
   "metadata": {},
   "outputs": [],
   "source": [
    "# Draw x, w\n",
    "x_1 = abs(np.random.standard_normal(600))\n",
    "x_2 = abs(np.random.standard_normal(600))\n",
    "x_3 = abs(np.random.standard_normal(600))\n",
    "x_4 = abs(np.random.standard_normal(600))\n",
    "x = np.array([x_1, x_2, x_3, x_4])\n",
    "\n",
    "w_1 = abs(np.random.standard_normal(600))\n",
    "w_2 = abs(np.random.standard_normal(600))\n",
    "w_3 = abs(np.random.standard_normal(600))\n",
    "w_4 = abs(np.random.standard_normal(600))\n",
    "w = np.array([w_1, w_2, w_3, w_4])"
   ]
  },
  {
   "cell_type": "code",
   "execution_count": 4,
   "id": "d741c113",
   "metadata": {},
   "outputs": [],
   "source": [
    "# Draw xi, omega\n",
    "cov = np.array([[1, 0.25],\n",
    "                [0.25,1]])\n",
    "A = np.linalg.cholesky(cov)\n",
    "\n",
    "def xi_omega_draw():\n",
    "    xi = []\n",
    "    omega = []\n",
    "    temp_xi = np.random.standard_normal(600)\n",
    "    temp_omega = np.random.standard_normal(600)\n",
    "    for i in range(600):\n",
    "        temp_z = np.array([[temp_xi[i]],[temp_omega[i]]])\n",
    "        result = A@temp_z\n",
    "        xi.append(result[0][0])\n",
    "        omega.append(result[1][0])\n",
    "    return xi, omega\n",
    "1\n",
    "xi_1, omega_1 = xi_omega_draw()\n",
    "xi_2, omega_2 = xi_omega_draw()\n",
    "xi_3, omega_3 = xi_omega_draw()\n",
    "xi_4, omega_4 = xi_omega_draw()\n",
    "xi = np.array([xi_1, xi_2, xi_3, xi_4])\n",
    "omega = np.array([omega_1, omega_2, omega_3, omega_4])"
   ]
  },
  {
   "cell_type": "code",
   "execution_count": 5,
   "id": "d7d6b8ac",
   "metadata": {},
   "outputs": [],
   "source": [
    "# Draw beta w/ different size of N = 100, 500, 1000, 3000\n",
    "beta2_100  = np.random.normal(4, 1, 100) \n",
    "beta2_500  = np.random.normal(4, 1, 500) \n",
    "beta2_1000 = np.random.normal(4, 1, 1000) \n",
    "beta2_3000 = np.random.normal(4, 1, 3000) \n",
    "\n",
    "beta3_100  = np.random.normal(4, 1, 100) \n",
    "beta3_500  = np.random.normal(4, 1, 500) \n",
    "beta3_1000 = np.random.normal(4, 1, 1000) \n",
    "beta3_3000 = np.random.normal(4, 1, 3000) "
   ]
  },
  {
   "cell_type": "markdown",
   "id": "db8edd51",
   "metadata": {},
   "source": [
    "# Q2. Solve for the Eqm Prices for each good, in each market"
   ]
  },
  {
   "cell_type": "markdown",
   "id": "bdb4a363",
   "metadata": {},
   "source": [
    "## Step (a) "
   ]
  },
  {
   "cell_type": "markdown",
   "id": "622db2cb",
   "metadata": {},
   "source": [
    "Since,\n",
    "$$ s_{jt} = \\int\\int \\frac{exp(\\beta^{(1)}x_{jt} + \\beta_i^{(2)}satellite_{jt} + \\beta_i^{(3)}wired_{jt} - 2p_{jt} + \\xi_{jt})}{\\sum_{k\\in\\{0,\\cdots, 4\\}}exp(\\beta^{(1)}x_{kt} + \\beta_i^{(2)}satellite_{kt} + \\beta_i^{(3)}wired_{kt} - 2p_{kt} + \\xi_{jt})}dF(\\beta_i^{(2)})dF(\\beta_i^{(3)}) $$\n",
    "\n",
    "Letting\n",
    "$$ Q_{jt} := exp(\\beta^{(1)}x_{jt} + \\beta_i^{(2)}satellite_{jt} + \\beta_i^{(3)}wired_{jt} - 2p_{jt} + \\xi_{jt}) \\\\\n",
    "\\sum_{t} := \\sum_{k\\in\\{0,\\cdots, 4\\}}exp(\\beta^{(1)}x_{kt} + \\beta_i^{(2)}satellite_{kt} + \\beta_i^{(3)}wired_{kt} - 2p_{kt}+ \\xi_{jt})\n",
    "$$\n",
    "\n",
    "By the Leibniz Integral Rule, we have \n",
    "$$\\frac{\\partial s_{jt}}{\\partial p_{jt}} = \\int\\int \\frac{2Q_{jt}^2 - 2Q_{jt}\\sum_t}{(\\sum_t)^2}dF(\\beta_i^{(2)})dF(\\beta_i^{(3)})  \\\\\n",
    "\\frac{\\partial s_{jt}}{\\partial p_{kt}} = \\int\\int \\frac{2Q_{jt}Q_{kt}}{(\\sum_t)^2}dF(\\beta_i^{(2)})dF(\\beta_i^{(3)})\n",
    "$$\n",
    "\n"
   ]
  },
  {
   "cell_type": "code",
   "execution_count": 6,
   "id": "eb2b126c",
   "metadata": {},
   "outputs": [],
   "source": [
    "def s_jt(j, t, p):\n",
    "    '''\n",
    "    input: j: 0~3 <-- product number\n",
    "           t: 0~599 <-- market number\n",
    "           p: list with len(p) = 4 <-- list of prices\n",
    "    output:s_jt\n",
    "    '''\n",
    "\n",
    "    beta2 = beta2_1000  # change the sample size here\n",
    "    beta3 = beta3_1000\n",
    "    \n",
    "    sigma_t = 1 + np.exp(𝛽_1*x[0][t] + beta2 - 2*p[0] + xi[0][t]) \\\n",
    "                + np.exp(𝛽_1*x[1][t] + beta2 - 2*p[1] + xi[1][t]) \\\n",
    "                + np.exp(𝛽_1*x[2][t] + beta3 - 2*p[2] + xi[2][t]) \\\n",
    "                + np.exp(𝛽_1*x[3][t] + beta3 - 2*p[3] + xi[3][t])\n",
    "    \n",
    "    if j == 0 or j == 1:\n",
    "        Q_jt = np.exp(𝛽_1*x[j][t] + beta2 - 2*p[j] + xi[j][t])\n",
    "        s_jt = (Q_jt/sigma_t).mean()        \n",
    "    else: \n",
    "        Q_jt = np.exp(𝛽_1*x[j][t] + beta3 - 2*p[j] + xi[j][t])\n",
    "        s_jt = (Q_jt/sigma_t).mean()\n",
    "    return s_jt          "
   ]
  },
  {
   "cell_type": "code",
   "execution_count": 7,
   "id": "3d6a0a78",
   "metadata": {},
   "outputs": [],
   "source": [
    "def mc_jt(j, t):\n",
    "    return np.exp(𝛾_0 + 𝛾_1*w[j][t] + omega[j][t]/8)"
   ]
  },
  {
   "cell_type": "code",
   "execution_count": 8,
   "id": "712d77bf",
   "metadata": {},
   "outputs": [],
   "source": [
    "def round_s_over_p(j, k, t, p):\n",
    "    '''\n",
    "    input: j, k --> product number btw 0~3\n",
    "            t --> market number btw 0~599\n",
    "            p --> list of price len(p) == 4 \n",
    "            \n",
    "    output: round s_j over round p_k\n",
    "    '''\n",
    "    \n",
    "    beta2 = beta2_3000  # change the sample size here\n",
    "    beta3 = beta3_3000\n",
    "    \n",
    "    sigma_t = 1 + np.exp(𝛽_1*x[0][t] + beta2 - 2*p[0] + xi[0][t]) \\\n",
    "                + np.exp(𝛽_1*x[1][t] + beta2 - 2*p[1] + xi[1][t]) \\\n",
    "                + np.exp(𝛽_1*x[2][t] + beta3 - 2*p[2] + xi[2][t]) \\\n",
    "                + np.exp(𝛽_1*x[3][t] + beta3 - 2*p[3] + xi[3][t]) \n",
    "    \n",
    "    if j == k:\n",
    "        if j == 0 or j == 1:\n",
    "            Q_jt = np.exp(𝛽_1*x[j][t] + beta2 - 2*p[j] + xi[j][t])\n",
    "            round_s_over_p = ((2*Q_jt**2 - 2*Q_jt*sigma_t)/sigma_t**2).mean()\n",
    "        else:\n",
    "            Q_jt = np.exp(𝛽_1*x[j][t] + beta3 - 2*p[j] + xi[j][t])\n",
    "            round_s_over_p = ((2*Q_jt**2 - 2*Q_jt*sigma_t)/sigma_t**2).mean()\n",
    "            \n",
    "    else:\n",
    "        if j == 0 or j == 1:\n",
    "            if k == 0 or k == 1:\n",
    "                Q_jt = np.exp(𝛽_1*x[j][t] + beta2 - 2*p[j] + xi[j][t])\n",
    "                Q_kt = np.exp(𝛽_1*x[k][t] + beta2 - 2*p[k] + xi[k][t])\n",
    "                round_s_over_p = (2*Q_jt*Q_kt/sigma_t**2).mean()\n",
    "            else:\n",
    "                Q_jt = np.exp(𝛽_1*x[j][t] + beta2 - 2*p[j] + xi[j][t])\n",
    "                Q_kt = np.exp(𝛽_1*x[k][t] + beta3 - 2*p[k] + xi[k][t])\n",
    "                round_s_over_p = (2*Q_jt*Q_kt/sigma_t**2).mean()\n",
    "        else:\n",
    "            if k == 0 or k == 1:\n",
    "                Q_jt = np.exp(𝛽_1*x[j][t] + beta3 - 2*p[j] + xi[j][t])\n",
    "                Q_kt = np.exp(𝛽_1*x[k][t] + beta2 - 2*p[k] + xi[k][t])\n",
    "                round_s_over_p = (2*Q_jt*Q_kt/sigma_t**2).mean()\n",
    "            else:\n",
    "                Q_jt = np.exp(𝛽_1*x[j][t] + beta3 - 2*p[j] + xi[j][t])\n",
    "                Q_kt = np.exp(𝛽_1*x[k][t] + beta3 - 2*p[k] + xi[k][t])\n",
    "                round_s_over_p = (2*Q_jt*Q_kt/sigma_t**2).mean()\n",
    "    \n",
    "    return round_s_over_p"
   ]
  },
  {
   "cell_type": "markdown",
   "id": "0ef0f013",
   "metadata": {},
   "source": [
    "## Step (b) and (c)"
   ]
  },
  {
   "cell_type": "markdown",
   "id": "b9358c4c",
   "metadata": {},
   "source": [
    "#### method (i)"
   ]
  },
  {
   "cell_type": "code",
   "execution_count": 9,
   "id": "f2be6ca8",
   "metadata": {},
   "outputs": [],
   "source": [
    "market_price = []\n",
    "for t in range(600):\n",
    "    def sys_of_eqns(p):\n",
    "        f = [p[0] - mc_jt(0, t) + s_jt(0, t, p)/round_s_over_p(0,0,t,p),\n",
    "             p[1] - mc_jt(1, t) + s_jt(1, t, p)/round_s_over_p(1,1,t,p),\n",
    "             p[2] - mc_jt(2, t) + s_jt(2, t, p)/round_s_over_p(2,2,t,p),\n",
    "             p[3] - mc_jt(3, t) + s_jt(3, t, p)/round_s_over_p(3,3,t,p)]\n",
    "        return f\n",
    "    sol = root(sys_of_eqns, [3.1, 3.2, 3.3, 3.4])\n",
    "    market_price.append(sol.x)"
   ]
  },
  {
   "cell_type": "markdown",
   "id": "b01a7b3f",
   "metadata": {},
   "source": [
    "#### method (ii)"
   ]
  },
  {
   "cell_type": "code",
   "execution_count": 10,
   "id": "baa5dbb5",
   "metadata": {},
   "outputs": [],
   "source": [
    "def lambda_t(t, p):\n",
    "    lambda_matrix = np.array([[-2*s_jt(0,t,p),0,0,0],\n",
    "                              [0,-2*s_jt(1,t,p),0,0],\n",
    "                              [0,0,-2*s_jt(2,t,p),0],\n",
    "                              [0,0,0,-2*s_jt(3,t,p)]])\n",
    "    return lambda_matrix"
   ]
  },
  {
   "cell_type": "code",
   "execution_count": 11,
   "id": "f106c664",
   "metadata": {},
   "outputs": [],
   "source": [
    "def s_jtXs_kt(j,k,t,p):\n",
    "    beta2 = beta2_100 \n",
    "    beta3 = beta3_100\n",
    "    \n",
    "    sigma_t = 1 + np.exp(𝛽_1*x[0][t] + beta2 - 2*p[0] + xi[0][t]) \\\n",
    "                + np.exp(𝛽_1*x[1][t] + beta2 - 2*p[1] + xi[1][t]) \\\n",
    "                + np.exp(𝛽_1*x[2][t] + beta3 - 2*p[2] + xi[2][t]) \\\n",
    "                + np.exp(𝛽_1*x[3][t] + beta3 - 2*p[3] + xi[3][t])\n",
    "    \n",
    "    if j == 0 or j == 1:\n",
    "        if k == 0 or k == 1:\n",
    "            Q_jt = np.exp(𝛽_1*x[j][t] + beta2 - 2*p[j] + xi[j][t])\n",
    "            Q_kt = np.exp(𝛽_1*x[k][t] + beta2 - 2*p[k] + xi[k][t])\n",
    "            s_jtXs_kt = ((Q_jt/sigma_t)*(Q_kt/sigma_t)).mean()\n",
    "        else:\n",
    "            Q_jt = np.exp(𝛽_1*x[j][t] + beta2 - 2*p[j] + xi[j][t])\n",
    "            Q_kt = np.exp(𝛽_1*x[k][t] + beta3 - 2*p[k] + xi[k][t])\n",
    "            s_jtXs_kt = ((Q_jt/sigma_t)*(Q_kt/sigma_t)).mean()\n",
    "    else:\n",
    "        if k == 0 or k == 1:\n",
    "            Q_jt = np.exp(𝛽_1*x[j][t] + beta3 - 2*p[j] + xi[j][t])\n",
    "            Q_kt = np.exp(𝛽_1*x[k][t] + beta2 - 2*p[k] + xi[k][t])\n",
    "            s_jtXs_kt = ((Q_jt/sigma_t)*(Q_kt/sigma_t)).mean()\n",
    "        else:\n",
    "            Q_jt = np.exp(𝛽_1*x[j][t] + beta3 - 2*p[j] + xi[j][t])\n",
    "            Q_kt = np.exp(𝛽_1*x[k][t] + beta3 - 2*p[k] + xi[k][t])\n",
    "            s_jtXs_kt = ((Q_jt/sigma_t)*(Q_kt/sigma_t)).mean()\n",
    "    \n",
    "    return s_jtXs_kt"
   ]
  },
  {
   "cell_type": "code",
   "execution_count": 12,
   "id": "9bca5f96",
   "metadata": {},
   "outputs": [],
   "source": [
    "def gamma_t(t,p):\n",
    "    gamma_matrix = np.array([[-2*s_jtXs_kt(0,0,t,p), -2*s_jtXs_kt(0,1,t,p), -2*s_jtXs_kt(0,2,t,p), -2*s_jtXs_kt(0,3,t,p)],\n",
    "                             [-2*s_jtXs_kt(1,0,t,p), -2*s_jtXs_kt(1,1,t,p), -2*s_jtXs_kt(1,2,t,p), -2*s_jtXs_kt(1,3,t,p)],\n",
    "                             [-2*s_jtXs_kt(2,0,t,p), -2*s_jtXs_kt(2,1,t,p), -2*s_jtXs_kt(2,2,t,p), -2*s_jtXs_kt(2,3,t,p)],\n",
    "                             [-2*s_jtXs_kt(3,0,t,p), -2*s_jtXs_kt(3,1,t,p), -2*s_jtXs_kt(3,2,t,p), -2*s_jtXs_kt(3,3,t,p)]])\n",
    "    return gamma_matrix"
   ]
  },
  {
   "cell_type": "code",
   "execution_count": 13,
   "id": "13897b98",
   "metadata": {},
   "outputs": [],
   "source": [
    "market_price2 = []\n",
    "for t in range(600):\n",
    "\n",
    "    epsilon = 0.00001\n",
    "    old_p = np.array([2.1,2.2,2.3,2.4])\n",
    "    counter = 0\n",
    "    while True:\n",
    "        c = np.array([mc_jt(0,t), mc_jt(1,t), mc_jt(2,t), mc_jt(3,t)])\n",
    "        lambda_matrix = lambda_t(t, old_p)\n",
    "        H = np.identity(4)\n",
    "        gamma_matrix = gamma_t(t, old_p)\n",
    "        share = np.array([s_jt(0,t,old_p), s_jt(1,t,old_p), s_jt(2,t,old_p), s_jt(3,t,old_p)])\n",
    "        new_p = c + np.linalg.inv(lambda_matrix)@np.multiply(H, gamma_matrix)@(old_p-c) - np.linalg.inv(lambda_matrix)@share\n",
    "\n",
    "        dist = abs(new_p - old_p).max()\n",
    "        if dist < epsilon:\n",
    "            break\n",
    "        else:\n",
    "            old_p = 0.7*new_p + 0.3*old_p\n",
    "\n",
    "    market_price2.append(new_p)"
   ]
  },
  {
   "cell_type": "markdown",
   "id": "e88693e9",
   "metadata": {},
   "source": [
    "#### compare the result from (i) and (ii)"
   ]
  },
  {
   "cell_type": "code",
   "execution_count": 14,
   "id": "80bcfe85",
   "metadata": {
    "scrolled": true
   },
   "outputs": [
    {
     "data": {
      "text/plain": [
       "array([[-0.00459903, -0.05032137,  0.08728314,  0.00949118],\n",
       "       [-0.05209564, -0.03161557,  0.02210648,  0.06052367],\n",
       "       [-0.03845409, -0.02228628,  0.00630214,  0.08767614],\n",
       "       ...,\n",
       "       [-0.08154682, -0.02990624,  0.06938191,  0.0106628 ],\n",
       "       [-0.03634694, -0.01326335,  0.00190323,  0.11371752],\n",
       "       [-0.11692524, -0.00696645,  0.03622952,  0.04275791]])"
      ]
     },
     "execution_count": 14,
     "metadata": {},
     "output_type": "execute_result"
    }
   ],
   "source": [
    "np.array(market_price) - np.array(market_price2)"
   ]
  },
  {
   "cell_type": "markdown",
   "id": "31124b3f",
   "metadata": {},
   "source": [
    "we can check that the results from (i) and (ii) are similar."
   ]
  },
  {
   "cell_type": "markdown",
   "id": "5704f95e",
   "metadata": {},
   "source": [
    "# Q3. Calculate Observed Shares"
   ]
  },
  {
   "cell_type": "code",
   "execution_count": 15,
   "id": "7b08f335",
   "metadata": {},
   "outputs": [],
   "source": [
    "s_0 = []\n",
    "s_1 = []\n",
    "s_2 = []\n",
    "s_3 = []\n",
    "s_4 = []\n",
    "\n",
    "for t in range(600):\n",
    "    s_0.append(1-s_jt(0, t, market_price[t])-s_jt(1, t, market_price[t])-s_jt(2, t, market_price[t])-s_jt(3, t, market_price[t]))\n",
    "    s_1.append(s_jt(0, t, market_price[t]))\n",
    "    s_2.append(s_jt(1, t, market_price[t]))\n",
    "    s_3.append(s_jt(2, t, market_price[t]))\n",
    "    s_4.append(s_jt(3, t, market_price[t]))\n",
    "\n",
    "observed_s = np.array([s_1, s_2, s_3, s_4])\n",
    "# observed_s[0] --> share list of outer product\n",
    "# observed_s[1] --> share list of product j \n",
    "\n"
   ]
  },
  {
   "cell_type": "markdown",
   "id": "a633550c",
   "metadata": {},
   "source": [
    "----"
   ]
  },
  {
   "cell_type": "markdown",
   "id": "453dd80d",
   "metadata": {},
   "source": [
    "# Roadmap for Part3 (Q4, Q5, Q6, Q7)"
   ]
  },
  {
   "cell_type": "markdown",
   "id": "5438b3e3",
   "metadata": {},
   "source": [
    "* From part1, we derived market prices and associated market shares of each products across 600 different markets.\n",
    "* Keep using the generated data of x, we will estimate parameters $\\alpha$ and $\\beta$.\n",
    "* Although we generated data for $\\xi_j$ above, we won't use it in our specifications below because those are unobservable factors to econometricians. \n",
    "* Omitted $\\xi_j$ will reveal the price variables to the endogeneity issue, since $\\xi_j$ and $\\omega_j$ are correlated by construction.\n",
    "* To deal with the endogeneity problem from $\\xi_j$, we will use instruments. "
   ]
  },
  {
   "cell_type": "markdown",
   "id": "80f07cb2",
   "metadata": {},
   "source": [
    "# Q4 & Q5. Estimate the plain multinomial logit model"
   ]
  },
  {
   "cell_type": "markdown",
   "id": "2d73e197",
   "metadata": {},
   "source": [
    "since\n",
    "$$\\frac{s_{jt}}{s_{0t}} = Q_{jt}$$\n",
    "we have\n",
    "$$\\ln s_{jt} - \\ln s_{0t} = \\ln Q_{jt} \\\\\n",
    "\\Rightarrow \\ln s_{jt} - \\ln s_{0t} = \\beta^{(1)}x_{jt} + \\beta^{(2)}satellite_{jt} + \\beta^{(3)}wired_{jt} + \\alpha p_{jt} + \\underbrace{\\xi_{jt} + \\epsilon_{jt}}_\\text{error term} \\quad \\cdots (*)\n",
    "$$\n",
    "In Q4, we are required to do a simple OLS using the specification $(*)$."
   ]
  },
  {
   "cell_type": "markdown",
   "id": "3587ed0c",
   "metadata": {},
   "source": [
    "## Data Preparation (Also Prepare for the Nested Logit)"
   ]
  },
  {
   "cell_type": "code",
   "execution_count": 16,
   "id": "3474930b",
   "metadata": {},
   "outputs": [],
   "source": [
    "price_1 = [i[0] for i in market_price2]\n",
    "price_2 = [i[1] for i in market_price2]\n",
    "price_3 = [i[2] for i in market_price2]\n",
    "price_4 = [i[3] for i in market_price2]"
   ]
  },
  {
   "cell_type": "code",
   "execution_count": 17,
   "id": "fa47d460",
   "metadata": {},
   "outputs": [],
   "source": [
    "cost_1 = [mc_jt(0, t) for t in range(600)]\n",
    "cost_2 = [mc_jt(1, t) for t in range(600)]\n",
    "cost_3 = [mc_jt(2, t) for t in range(600)]\n",
    "cost_4 = [mc_jt(3, t) for t in range(600)]"
   ]
  },
  {
   "cell_type": "code",
   "execution_count": 18,
   "id": "9307f222",
   "metadata": {},
   "outputs": [],
   "source": [
    "t = [i for i in range(600)]\n",
    "index_1 = [1 for i in range(600)]\n",
    "index_2 = [2 for i in range(600)]\n",
    "index_3 = [3 for i in range(600)]\n",
    "index_4 = [4 for i in range(600)]"
   ]
  },
  {
   "cell_type": "code",
   "execution_count": 19,
   "id": "367c36ed",
   "metadata": {},
   "outputs": [],
   "source": [
    "within_group_share_1 = np.array(s_1)/(np.array(s_1)+np.array(s_2))\n",
    "within_group_share_2 = np.array(s_2)/(np.array(s_1)+np.array(s_2))\n",
    "within_group_share_3 = np.array(s_3)/(np.array(s_3)+np.array(s_4))\n",
    "within_group_share_4 = np.array(s_4)/(np.array(s_3)+np.array(s_4))"
   ]
  },
  {
   "cell_type": "code",
   "execution_count": 20,
   "id": "70a39b74",
   "metadata": {},
   "outputs": [],
   "source": [
    "nested_IV_1 = x_2\n",
    "nested_IV_2 = x_1\n",
    "nested_IV_3 = x_4\n",
    "nested_IV_4 = x_3"
   ]
  },
  {
   "cell_type": "code",
   "execution_count": 21,
   "id": "04a2292e",
   "metadata": {},
   "outputs": [],
   "source": [
    "data_product_1 = df({'j': index_1,\n",
    "                     't': t,\n",
    "                     'price': price_1,\n",
    "                     'cost' : cost_1,\n",
    "                     'x': x_1,\n",
    "                     'x_others': x_2+x_3+x_4,\n",
    "                     'w': w_1,\n",
    "                     'xi': xi_1,\n",
    "                     'nested_IV': nested_IV_1,\n",
    "                     'share': s_1,\n",
    "                     'within_group_share': within_group_share_1,\n",
    "                     'outside_share': s_0})\n",
    "\n",
    "data_product_2 = df({'j': index_2,\n",
    "                     't': t,\n",
    "                     'price': price_2,\n",
    "                     'cost' : cost_2,\n",
    "                     'x': x_2,\n",
    "                     'x_others': x_1+x_3+x_4,\n",
    "                     'w': w_2,\n",
    "                     'xi': xi_2,\n",
    "                     'nested_IV': nested_IV_2,\n",
    "                     'share': s_2,\n",
    "                     'within_group_share': within_group_share_2,\n",
    "                     'outside_share': s_0})\n",
    "\n",
    "data_product_3 = df({'j': index_3,\n",
    "                     't': t,\n",
    "                     'price': price_3,\n",
    "                     'cost' : cost_3,\n",
    "                     'x': x_3,\n",
    "                     'x_others': x_1+x_2+x_4,\n",
    "                     'w': w_3,\n",
    "                     'xi': xi_3,\n",
    "                     'nested_IV': nested_IV_3,\n",
    "                     'share': s_3,\n",
    "                     'within_group_share': within_group_share_3,\n",
    "                     'outside_share': s_0})\n",
    "\n",
    "data_product_4 = df({'j': index_4,\n",
    "                     't': t,\n",
    "                     'price': price_4,\n",
    "                     'cost' : cost_4,\n",
    "                     'x': x_4,\n",
    "                     'x_others': x_1+x_2+x_3,\n",
    "                     'w': w_4,\n",
    "                     'xi': xi_4,\n",
    "                     'nested_IV': nested_IV_4,\n",
    "                     'share': s_4,\n",
    "                     'within_group_share': within_group_share_4,\n",
    "                     'outside_share': s_0})\n",
    "\n",
    "master = data_product_1\n",
    "master = master.append(data_product_2)\n",
    "master = master.append(data_product_3)\n",
    "master = master.append(data_product_4)\n"
   ]
  },
  {
   "cell_type": "code",
   "execution_count": 22,
   "id": "84c2fd02",
   "metadata": {},
   "outputs": [],
   "source": [
    "master['satellite'] = np.where(master['j'] <= 2, 1, 0)\n",
    "master['wired'] = np.where(master['j'] >= 3, 1, 0)\n",
    "master['logged_group_share'] = np.log(master['within_group_share'])\n",
    "master['dependent_var'] = np.log(master['share']) - np.log(master['outside_share'])\n",
    "master['x_sums'] = master['x'] + master['x_others']\n",
    "master.to_stata(\"master_from_python.dta\")"
   ]
  },
  {
   "cell_type": "markdown",
   "id": "389b459c",
   "metadata": {},
   "source": [
    "## Regression "
   ]
  },
  {
   "cell_type": "markdown",
   "id": "9553a8cf",
   "metadata": {},
   "source": [
    "# Q4. OLS"
   ]
  },
  {
   "cell_type": "markdown",
   "id": "492ecd69",
   "metadata": {},
   "source": [
    "## Plain Multinomial Result: OLS"
   ]
  },
  {
   "cell_type": "code",
   "execution_count": 24,
   "id": "1777dcd2",
   "metadata": {},
   "outputs": [
    {
     "data": {
      "text/html": [
       "<table class=\"simpletable\">\n",
       "<caption>OLS Regression Results</caption>\n",
       "<tr>\n",
       "  <th>Dep. Variable:</th>      <td>dependent_var</td>  <th>  R-squared:         </th> <td>   0.295</td> \n",
       "</tr>\n",
       "<tr>\n",
       "  <th>Model:</th>                   <td>OLS</td>       <th>  Adj. R-squared:    </th> <td>   0.294</td> \n",
       "</tr>\n",
       "<tr>\n",
       "  <th>Method:</th>             <td>Least Squares</td>  <th>  F-statistic:       </th> <td>   334.3</td> \n",
       "</tr>\n",
       "<tr>\n",
       "  <th>Date:</th>             <td>Sun, 23 Oct 2022</td> <th>  Prob (F-statistic):</th> <td>2.70e-181</td>\n",
       "</tr>\n",
       "<tr>\n",
       "  <th>Time:</th>                 <td>18:51:35</td>     <th>  Log-Likelihood:    </th> <td> -3067.8</td> \n",
       "</tr>\n",
       "<tr>\n",
       "  <th>No. Observations:</th>      <td>  2400</td>      <th>  AIC:               </th> <td>   6144.</td> \n",
       "</tr>\n",
       "<tr>\n",
       "  <th>Df Residuals:</th>          <td>  2396</td>      <th>  BIC:               </th> <td>   6167.</td> \n",
       "</tr>\n",
       "<tr>\n",
       "  <th>Df Model:</th>              <td>     3</td>      <th>                     </th>     <td> </td>    \n",
       "</tr>\n",
       "<tr>\n",
       "  <th>Covariance Type:</th>      <td>nonrobust</td>    <th>                     </th>     <td> </td>    \n",
       "</tr>\n",
       "</table>\n",
       "<table class=\"simpletable\">\n",
       "<tr>\n",
       "      <td></td>         <th>coef</th>     <th>std err</th>      <th>t</th>      <th>P>|t|</th>  <th>[0.025</th>    <th>0.975]</th>  \n",
       "</tr>\n",
       "<tr>\n",
       "  <th>x</th>         <td>    0.8082</td> <td>    0.030</td> <td>   27.301</td> <td> 0.000</td> <td>    0.750</td> <td>    0.866</td>\n",
       "</tr>\n",
       "<tr>\n",
       "  <th>satellite</th> <td>    1.3164</td> <td>    0.127</td> <td>   10.392</td> <td> 0.000</td> <td>    1.068</td> <td>    1.565</td>\n",
       "</tr>\n",
       "<tr>\n",
       "  <th>wired</th>     <td>    1.2683</td> <td>    0.124</td> <td>   10.197</td> <td> 0.000</td> <td>    1.024</td> <td>    1.512</td>\n",
       "</tr>\n",
       "<tr>\n",
       "  <th>price</th>     <td>   -0.9304</td> <td>    0.046</td> <td>  -20.352</td> <td> 0.000</td> <td>   -1.020</td> <td>   -0.841</td>\n",
       "</tr>\n",
       "</table>\n",
       "<table class=\"simpletable\">\n",
       "<tr>\n",
       "  <th>Omnibus:</th>       <td>50.115</td> <th>  Durbin-Watson:     </th> <td>   1.916</td>\n",
       "</tr>\n",
       "<tr>\n",
       "  <th>Prob(Omnibus):</th> <td> 0.000</td> <th>  Jarque-Bera (JB):  </th> <td>  53.806</td>\n",
       "</tr>\n",
       "<tr>\n",
       "  <th>Skew:</th>          <td>-0.335</td> <th>  Prob(JB):          </th> <td>2.07e-12</td>\n",
       "</tr>\n",
       "<tr>\n",
       "  <th>Kurtosis:</th>      <td> 3.299</td> <th>  Cond. No.          </th> <td>    30.2</td>\n",
       "</tr>\n",
       "</table><br/><br/>Notes:<br/>[1] Standard Errors assume that the covariance matrix of the errors is correctly specified."
      ],
      "text/plain": [
       "<class 'statsmodels.iolib.summary.Summary'>\n",
       "\"\"\"\n",
       "                            OLS Regression Results                            \n",
       "==============================================================================\n",
       "Dep. Variable:          dependent_var   R-squared:                       0.295\n",
       "Model:                            OLS   Adj. R-squared:                  0.294\n",
       "Method:                 Least Squares   F-statistic:                     334.3\n",
       "Date:                Sun, 23 Oct 2022   Prob (F-statistic):          2.70e-181\n",
       "Time:                        18:51:35   Log-Likelihood:                -3067.8\n",
       "No. Observations:                2400   AIC:                             6144.\n",
       "Df Residuals:                    2396   BIC:                             6167.\n",
       "Df Model:                           3                                         \n",
       "Covariance Type:            nonrobust                                         \n",
       "==============================================================================\n",
       "                 coef    std err          t      P>|t|      [0.025      0.975]\n",
       "------------------------------------------------------------------------------\n",
       "x              0.8082      0.030     27.301      0.000       0.750       0.866\n",
       "satellite      1.3164      0.127     10.392      0.000       1.068       1.565\n",
       "wired          1.2683      0.124     10.197      0.000       1.024       1.512\n",
       "price         -0.9304      0.046    -20.352      0.000      -1.020      -0.841\n",
       "==============================================================================\n",
       "Omnibus:                       50.115   Durbin-Watson:                   1.916\n",
       "Prob(Omnibus):                  0.000   Jarque-Bera (JB):               53.806\n",
       "Skew:                          -0.335   Prob(JB):                     2.07e-12\n",
       "Kurtosis:                       3.299   Cond. No.                         30.2\n",
       "==============================================================================\n",
       "\n",
       "Notes:\n",
       "[1] Standard Errors assume that the covariance matrix of the errors is correctly specified.\n",
       "\"\"\""
      ]
     },
     "execution_count": 24,
     "metadata": {},
     "output_type": "execute_result"
    }
   ],
   "source": [
    "my_var = ['x', 'satellite', 'wired', 'price']\n",
    "plain_result = sm.OLS(master['dependent_var'], master[my_var]).fit()\n",
    "plain_result.summary()"
   ]
  },
  {
   "cell_type": "markdown",
   "id": "509a54cb",
   "metadata": {},
   "source": [
    "# Q5. 2SLS"
   ]
  },
  {
   "cell_type": "markdown",
   "id": "48a7caba",
   "metadata": {},
   "source": [
    "## Plain Multinomial Result: 2SLS"
   ]
  },
  {
   "cell_type": "code",
   "execution_count": 25,
   "id": "4daa2805",
   "metadata": {},
   "outputs": [],
   "source": [
    "plain_result_IV_xw = IV2SLS(dependent=master['dependent_var'],\n",
    "                                  exog=master[['x', 'satellite', 'wired']],\n",
    "                                  endog=master['price'],\n",
    "                                  instruments=master[['x_others','w']]).fit(cov_type='unadjusted')"
   ]
  },
  {
   "cell_type": "code",
   "execution_count": 26,
   "id": "5154dfca",
   "metadata": {
    "scrolled": false
   },
   "outputs": [
    {
     "data": {
      "text/html": [
       "<table class=\"simpletable\">\n",
       "<caption>IV-2SLS Estimation Summary</caption>\n",
       "<tr>\n",
       "  <th>Dep. Variable:</th>      <td>dependent_var</td>  <th>  R-squared:         </th> <td>0.1388</td> \n",
       "</tr>\n",
       "<tr>\n",
       "  <th>Estimator:</th>             <td>IV-2SLS</td>     <th>  Adj. R-squared:    </th> <td>0.1377</td> \n",
       "</tr>\n",
       "<tr>\n",
       "  <th>No. Observations:</th>       <td>2400</td>       <th>  F-statistic:       </th> <td>2192.6</td> \n",
       "</tr>\n",
       "<tr>\n",
       "  <th>Date:</th>             <td>Sun, Oct 23 2022</td> <th>  P-value (F-stat)   </th> <td>0.0000</td> \n",
       "</tr>\n",
       "<tr>\n",
       "  <th>Time:</th>                 <td>18:51:35</td>     <th>  Distribution:      </th> <td>chi2(4)</td>\n",
       "</tr>\n",
       "<tr>\n",
       "  <th>Cov. Estimator:</th>      <td>unadjusted</td>    <th>                     </th>    <td></td>    \n",
       "</tr>\n",
       "<tr>\n",
       "  <th></th>                          <td></td>         <th>                     </th>    <td></td>    \n",
       "</tr>\n",
       "</table>\n",
       "<table class=\"simpletable\">\n",
       "<caption>Parameter Estimates</caption>\n",
       "<tr>\n",
       "      <td></td>      <th>Parameter</th> <th>Std. Err.</th> <th>T-stat</th>  <th>P-value</th> <th>Lower CI</th> <th>Upper CI</th>\n",
       "</tr>\n",
       "<tr>\n",
       "  <th>x</th>          <td>0.9220</td>    <td>0.0332</td>   <td>27.807</td>  <td>0.0000</td>   <td>0.8570</td>   <td>0.9870</td> \n",
       "</tr>\n",
       "<tr>\n",
       "  <th>satellite</th>  <td>4.1251</td>    <td>0.1954</td>   <td>21.111</td>  <td>0.0000</td>   <td>3.7421</td>   <td>4.5080</td> \n",
       "</tr>\n",
       "<tr>\n",
       "  <th>wired</th>      <td>4.0265</td>    <td>0.1919</td>   <td>20.985</td>  <td>0.0000</td>   <td>3.6504</td>   <td>4.4025</td> \n",
       "</tr>\n",
       "<tr>\n",
       "  <th>price</th>      <td>-1.9839</td>   <td>0.0719</td>   <td>-27.599</td> <td>0.0000</td>   <td>-2.1248</td>  <td>-1.8430</td>\n",
       "</tr>\n",
       "</table><br/><br/>Endogenous: price<br/>Instruments: x_others, w<br/>Unadjusted Covariance (Homoskedastic)<br/>Debiased: False<br/>id: 0x7fe1ab7fdfa0"
      ],
      "text/plain": [
       "                          IV-2SLS Estimation Summary                          \n",
       "==============================================================================\n",
       "Dep. Variable:          dependent_var   R-squared:                      0.1388\n",
       "Estimator:                    IV-2SLS   Adj. R-squared:                 0.1377\n",
       "No. Observations:                2400   F-statistic:                    2192.6\n",
       "Date:                Sun, Oct 23 2022   P-value (F-stat)                0.0000\n",
       "Time:                        18:51:35   Distribution:                  chi2(4)\n",
       "Cov. Estimator:            unadjusted                                         \n",
       "                                                                              \n",
       "                             Parameter Estimates                              \n",
       "==============================================================================\n",
       "            Parameter  Std. Err.     T-stat    P-value    Lower CI    Upper CI\n",
       "------------------------------------------------------------------------------\n",
       "x              0.9220     0.0332     27.807     0.0000      0.8570      0.9870\n",
       "satellite      4.1251     0.1954     21.111     0.0000      3.7421      4.5080\n",
       "wired          4.0265     0.1919     20.985     0.0000      3.6504      4.4025\n",
       "price         -1.9839     0.0719    -27.599     0.0000     -2.1248     -1.8430\n",
       "==============================================================================\n",
       "\n",
       "Endogenous: price\n",
       "Instruments: x_others, w\n",
       "Unadjusted Covariance (Homoskedastic)\n",
       "Debiased: False\n",
       "IVResults, id: 0x7fe1ab7fdfa0"
      ]
     },
     "execution_count": 26,
     "metadata": {},
     "output_type": "execute_result"
    }
   ],
   "source": [
    "plain_result_IV_xw"
   ]
  },
  {
   "cell_type": "markdown",
   "id": "c9cf188e",
   "metadata": {},
   "source": [
    "* Compared to the OLS result from Q4, we can check that the estimates after instrumenting price become more accurate in the sense that the values of the esimates become closer to the true paramters.\n",
    "* Estimate for $\\alpha$ is underestimated under the OLS result because of the contemporaneous factor $\\xi_j$. "
   ]
  },
  {
   "cell_type": "markdown",
   "id": "d9372bd2",
   "metadata": {},
   "source": [
    "# Q6. Nested Logit Model"
   ]
  },
  {
   "cell_type": "markdown",
   "id": "3b779730",
   "metadata": {},
   "source": [
    "* Before jumping on to the regression, justification for nested specification is needed.\n",
    "* To work with nested logit specification, we need eviedence for grouping products. \n",
    "    * For example, we can comprare correlation of market shares (across markets) of product 1 and 2 to that of product 3 and 4.\n",
    "    * If the distance between product 1 and 2 are more closer compared to 1 and 3 or 1 and 4, there will be a coupling between the market share of product 1 and 2\n",
    "    \n",
    "* Specification for the nested logit model is,  \n",
    "\n",
    "$$\\ln s_{jt} - \\ln s_{0t} = \\beta^{(1)}x_{jt} + \\beta^{(2)}satellite_{jt} + \\beta^{(3)}wired_{jt} + \\alpha p_{jt} + \\sigma^{satellite}\\ln (s_{jt}/satellite) + \\sigma^{wired}\\ln (s_{jt}/wired) + \\xi_{jt} \\quad \\cdots (**)\n",
    "$$\n",
    "\n",
    "* To estimate the heterogenous $sigma$ across two different nests. First, I tried the following SUR specification. \n",
    "\n",
    "\n",
    "$$\\begin{bmatrix} \n",
    "\\ln s_1 - \\ln s_0 \\\\\n",
    "\\ln s_2 - \\ln s_0 \\\\\n",
    "\\ln s_3 - \\ln s_0 \\\\ \n",
    "\\ln s_4 - \\ln s_0 \\\\ \n",
    "\\end{bmatrix}  = \\begin{bmatrix}\n",
    "\\beta_1 & 0 & 0 & 0 \\\\\n",
    "0 & \\beta_2 & 0 & 0 \\\\\n",
    "0 & 0 & \\beta_3 & 0 \\\\\n",
    "0 & 0 & 0 & \\beta_4\n",
    "\\end{bmatrix}\\begin{bmatrix} \n",
    "x_1 \\\\\n",
    "x_2 \\\\\n",
    "x_3 \\\\ \n",
    "x_4 \\\\ \n",
    "\\end{bmatrix} + \n",
    "\\begin{bmatrix}\n",
    "\\alpha_1 & 0 & 0 & 0 \\\\\n",
    "0 & \\alpha_2 & 0 & 0 \\\\\n",
    "0 & 0 & \\alpha_3 & 0 \\\\\n",
    "0 & 0 & 0 & \\alpha_4\n",
    "\\end{bmatrix}\n",
    "\\begin{bmatrix} \n",
    "P_1 \\\\\n",
    "P_2 \\\\\n",
    "P_3 \\\\ \n",
    "P_4 \\\\ \n",
    "\\end{bmatrix} + \n",
    "\\begin{bmatrix}\n",
    "\\sigma_1 & 0 & 0 & 0 \\\\\n",
    "0 & \\sigma_2 & 0 & 0 \\\\\n",
    "0 & 0 & \\sigma_3 & 0 \\\\\n",
    "0 & 0 & 0 & \\sigma_4\n",
    "\\end{bmatrix}\n",
    "\\begin{bmatrix} \n",
    "\\ln(s_1/satellite)\\\\\n",
    "\\ln(s_2/satellite)\\\\\n",
    "\\ln(s_3/wired)\\\\\n",
    "\\ln(s_4/wired)\\\\\n",
    "\\end{bmatrix} + \\xi\n",
    "$$\n",
    "\n",
    "* With imposing the following constraints:  \n",
    "$$ \\beta_1 = \\beta_2 = \\beta_3 = \\beta_4 \\\\  \n",
    "\\alpha_1 = \\alpha_2 = \\alpha_3 = \\alpha_4 \\\\\n",
    "\\sigma_1 = \\sigma_2 \\\\\n",
    "\\sigma_3 = \\sigma_4\n",
    "$$\n",
    "\n",
    "* And the price level is instrumented with the exogenous cost shift, which is $w_i$.  \n",
    "\n",
    "* Within group share is instumented with characteristics of the other firm in the group, which is $x_{-j/gt}$.\n",
    "\n",
    "\n",
    "<img src=\"https://github.com/Ian-JY-Kim/IO_coursework/blob/main/stata_nested_code.png?raw=true\" width = \"800\" height =\"500\"></img>\n",
    "\n",
    "<img src=\"https://github.com/Ian-JY-Kim/IO_coursework/blob/main/stata_nested_result.png?raw=true\" width = \"500\" height =\"400\"></img>\n",
    "\n",
    "* It turns out that the estimates under the nested logit specification are not similar to the true parameter values even after instrumenting the price variables and within group shares."
   ]
  },
  {
   "cell_type": "markdown",
   "id": "9600a615",
   "metadata": {},
   "source": [
    "# Q7. Own-Price Elasticities & Diversion Ratio"
   ]
  },
  {
   "cell_type": "markdown",
   "id": "015ceecd",
   "metadata": {},
   "source": [
    "* True own-price elasticity comes from the following,  \n",
    "\n",
    "$$\\frac{p_j}{s_j}\\cdot\\frac{\\partial s_j}{\\partial p_j} = -\\frac{p_j}{p_j-mc_j}\\quad \\because \\frac{\\partial s_j}{\\partial p_j} = -\\frac{s_j}{p_j-mc_j}$$\n",
    "\n",
    "* Using the chain rule, own-price elasticity can be estimated by the following,  \n",
    "\n",
    "$$\\frac{p_j}{s_j}\\cdot\\frac{\\partial s_j}{\\partial p_j} = \\frac{p_j}{s_j}\\cdot\\frac{\\partial s_j}{\\partial \\delta_j}\\cdot\\frac{\\partial \\delta_j}{\\partial p_j}  \\\\\n",
    "where \\quad \\frac{\\partial s_j}{\\partial \\delta_j} = {\\frac{1}{1-\\sigma_g}s_j[1-\\sigma_g s_{j/g} - (1-\\sigma_g)s_j]}$$\n",
    "\n",
    "* But from the estimated parameters, we have \n",
    "$$\\sigma_{satellite} = \\sigma_{wired} \\simeq 0, \\\\ \n",
    "\\frac{\\partial \\delta_j}{\\partial p_j} = -1.767\n",
    "$$  \n",
    "\n",
    "* Hence, estimated own price elasticity becomes,\n",
    "$$p_j \\cdot (1-s_j) \\cdot (-1.767)\n",
    "$$"
   ]
  },
  {
   "cell_type": "code",
   "execution_count": 140,
   "id": "de8f20d0",
   "metadata": {
    "scrolled": false
   },
   "outputs": [
    {
     "name": "stdout",
     "output_type": "stream",
     "text": [
      "True and Estimated Own-Price Elasticities Under Nested Logit Specification\n"
     ]
    },
    {
     "data": {
      "text/html": [
       "<div>\n",
       "<style scoped>\n",
       "    .dataframe tbody tr th:only-of-type {\n",
       "        vertical-align: middle;\n",
       "    }\n",
       "\n",
       "    .dataframe tbody tr th {\n",
       "        vertical-align: top;\n",
       "    }\n",
       "\n",
       "    .dataframe thead th {\n",
       "        text-align: right;\n",
       "    }\n",
       "</style>\n",
       "<table border=\"1\" class=\"dataframe\">\n",
       "  <thead>\n",
       "    <tr style=\"text-align: right;\">\n",
       "      <th></th>\n",
       "      <th>true_price_elasticity</th>\n",
       "      <th>estimated_elasticity</th>\n",
       "      <th>difference</th>\n",
       "    </tr>\n",
       "  </thead>\n",
       "  <tbody>\n",
       "    <tr>\n",
       "      <th>0</th>\n",
       "      <td>-6.728905</td>\n",
       "      <td>-6.084411</td>\n",
       "      <td>0.644493</td>\n",
       "    </tr>\n",
       "    <tr>\n",
       "      <th>1</th>\n",
       "      <td>-2.947563</td>\n",
       "      <td>-3.049377</td>\n",
       "      <td>0.101815</td>\n",
       "    </tr>\n",
       "    <tr>\n",
       "      <th>2</th>\n",
       "      <td>-3.829131</td>\n",
       "      <td>-3.943013</td>\n",
       "      <td>0.113882</td>\n",
       "    </tr>\n",
       "    <tr>\n",
       "      <th>3</th>\n",
       "      <td>-5.260461</td>\n",
       "      <td>-4.999840</td>\n",
       "      <td>0.260620</td>\n",
       "    </tr>\n",
       "    <tr>\n",
       "      <th>4</th>\n",
       "      <td>-3.673104</td>\n",
       "      <td>-3.660481</td>\n",
       "      <td>0.012623</td>\n",
       "    </tr>\n",
       "    <tr>\n",
       "      <th>...</th>\n",
       "      <td>...</td>\n",
       "      <td>...</td>\n",
       "      <td>...</td>\n",
       "    </tr>\n",
       "    <tr>\n",
       "      <th>595</th>\n",
       "      <td>-2.914013</td>\n",
       "      <td>-2.673875</td>\n",
       "      <td>0.240138</td>\n",
       "    </tr>\n",
       "    <tr>\n",
       "      <th>596</th>\n",
       "      <td>-6.290404</td>\n",
       "      <td>-5.604897</td>\n",
       "      <td>0.685507</td>\n",
       "    </tr>\n",
       "    <tr>\n",
       "      <th>597</th>\n",
       "      <td>-6.518484</td>\n",
       "      <td>-5.778435</td>\n",
       "      <td>0.740049</td>\n",
       "    </tr>\n",
       "    <tr>\n",
       "      <th>598</th>\n",
       "      <td>-2.875246</td>\n",
       "      <td>-2.827144</td>\n",
       "      <td>0.048102</td>\n",
       "    </tr>\n",
       "    <tr>\n",
       "      <th>599</th>\n",
       "      <td>-3.769559</td>\n",
       "      <td>-3.472125</td>\n",
       "      <td>0.297434</td>\n",
       "    </tr>\n",
       "  </tbody>\n",
       "</table>\n",
       "<p>2400 rows × 3 columns</p>\n",
       "</div>"
      ],
      "text/plain": [
       "     true_price_elasticity  estimated_elasticity  difference\n",
       "0                -6.728905             -6.084411    0.644493\n",
       "1                -2.947563             -3.049377    0.101815\n",
       "2                -3.829131             -3.943013    0.113882\n",
       "3                -5.260461             -4.999840    0.260620\n",
       "4                -3.673104             -3.660481    0.012623\n",
       "..                     ...                   ...         ...\n",
       "595              -2.914013             -2.673875    0.240138\n",
       "596              -6.290404             -5.604897    0.685507\n",
       "597              -6.518484             -5.778435    0.740049\n",
       "598              -2.875246             -2.827144    0.048102\n",
       "599              -3.769559             -3.472125    0.297434\n",
       "\n",
       "[2400 rows x 3 columns]"
      ]
     },
     "execution_count": 140,
     "metadata": {},
     "output_type": "execute_result"
    }
   ],
   "source": [
    "master['true_price_elasticity'] = -master['price']/(master['price'] - master['cost'])\n",
    "master['estimated_elasticity'] = -1.767 * (1-np.array(master['share'])) * np.array(master['price'])\n",
    "master['difference'] = np.abs(np.array(master['true_price_elasticity'])-np.array(master['estimated_elasticity'])) \n",
    "print(\"True and Estimated Own-Price Elasticities Under Nested Logit Specification\")\n",
    "master[['true_price_elasticity', 'estimated_elasticity', 'difference']]"
   ]
  },
  {
   "cell_type": "code",
   "execution_count": 141,
   "id": "990c6e30",
   "metadata": {},
   "outputs": [
    {
     "name": "stdout",
     "output_type": "stream",
     "text": [
      "Average True Price Elasticity:  -4.176652340847776\n",
      "Average Estimated Price Elasticity:  -3.944297918275037\n"
     ]
    }
   ],
   "source": [
    "print(\"Average True Price Elasticity: \", np.array(master['true_price_elasticity']).mean())\n",
    "print(\"Average Estimated Price Elasticity: \", np.array(master['estimated_elasticity']).mean())"
   ]
  },
  {
   "cell_type": "markdown",
   "id": "fe79b84b",
   "metadata": {},
   "source": [
    "* Recall the formula of diversion ratio:\n",
    "$$D_{jk}(p_j,p_{-j}) = \\frac{\\partial s_k / \\partial p_j}{\\left| \\partial s_j/ \\partial p_j \\right|}\n",
    "$$"
   ]
  },
  {
   "cell_type": "code",
   "execution_count": 132,
   "id": "73e03060",
   "metadata": {},
   "outputs": [],
   "source": [
    "def diversion_ratio_true(j,k,t):\n",
    "    numerator = round_s_over_p(k,j,t,market_price2[t])\n",
    "    denominator = -round_s_over_p(j,j,t,market_price2[t])\n",
    "    return numerator/denominator\n",
    "\n",
    "def diversion_ratio_observed(j,k,t):\n",
    "    numerator = round_s_over_p(k,j,t,market_price2[t])\n",
    "    denominator = observed_s[j][t]*(1-observed_s[j][t])*(1.767)\n",
    "    return numerator/denominator"
   ]
  },
  {
   "cell_type": "markdown",
   "id": "c0b60409",
   "metadata": {},
   "source": [
    "\n",
    "### True Diversion Ratio Matrix"
   ]
  },
  {
   "cell_type": "code",
   "execution_count": 139,
   "id": "c6d60cc5",
   "metadata": {},
   "outputs": [
    {
     "data": {
      "text/plain": [
       "array([[-1.        ,  0.29483145,  0.18513189,  0.18841896],\n",
       "       [ 0.29509333, -1.        ,  0.18251279,  0.191185  ],\n",
       "       [ 0.17100162,  0.16939952, -1.        ,  0.32909558],\n",
       "       [ 0.17045607,  0.17405863,  0.32029782, -1.        ]])"
      ]
     },
     "execution_count": 139,
     "metadata": {},
     "output_type": "execute_result"
    }
   ],
   "source": [
    "base = np.array([[0,0,0,0],\n",
    "                 [0,0,0,0],\n",
    "                 [0,0,0,0],\n",
    "                 [0,0,0,0]])\n",
    "for t in range(600):\n",
    "    temp = np.array([[diversion_ratio_true(0,0,t), diversion_ratio_true(0,1,t), diversion_ratio_true(0,2,t), diversion_ratio_true(0,3,t)],\n",
    "                    [diversion_ratio_true(1,0,t), diversion_ratio_true(1,1,t), diversion_ratio_true(1,2,t), diversion_ratio_true(1,3,t)],\n",
    "                    [diversion_ratio_true(2,0,t), diversion_ratio_true(2,1,t), diversion_ratio_true(2,2,t), diversion_ratio_true(2,3,t)],\n",
    "                    [diversion_ratio_true(3,0,t), diversion_ratio_true(3,1,t), diversion_ratio_true(3,2,t), diversion_ratio_true(3,3,t)]])\n",
    "    base = base + temp\n",
    "\n",
    "base/600"
   ]
  },
  {
   "cell_type": "markdown",
   "id": "1165d118",
   "metadata": {},
   "source": [
    "### Estimated Diversion Ratio Matrix"
   ]
  },
  {
   "cell_type": "code",
   "execution_count": 31,
   "id": "43944ff7",
   "metadata": {},
   "outputs": [
    {
     "data": {
      "text/plain": [
       "array([[-1.01151314,  0.3076037 ,  0.18349115,  0.18785181],\n",
       "       [ 0.30710917, -1.01222495,  0.18226642,  0.18970111],\n",
       "       [ 0.18382637,  0.18299203, -1.07849897,  0.3559883 ],\n",
       "       [ 0.18337775,  0.18715554,  0.34616189, -1.07668414]])"
      ]
     },
     "execution_count": 31,
     "metadata": {},
     "output_type": "execute_result"
    }
   ],
   "source": [
    "base2 = np.array([[0,0,0,0],\n",
    "                 [0,0,0,0],\n",
    "                 [0,0,0,0],\n",
    "                 [0,0,0,0]])\n",
    "for t in range(600):\n",
    "    temp = np.array([[diversion_ratio_observed(0,0,t), diversion_ratio_observed(0,1,t), diversion_ratio_observed(0,2,t), diversion_ratio_observed(0,3,t)],\n",
    "                    [diversion_ratio_observed(1,0,t), diversion_ratio_observed(1,1,t), diversion_ratio_observed(1,2,t), diversion_ratio_observed(1,3,t)],\n",
    "                    [diversion_ratio_observed(2,0,t), diversion_ratio_observed(2,1,t), diversion_ratio_observed(2,2,t), diversion_ratio_observed(2,3,t)],\n",
    "                    [diversion_ratio_observed(3,0,t), diversion_ratio_observed(3,1,t), diversion_ratio_observed(3,2,t), diversion_ratio_observed(3,3,t)]])\n",
    "    base2 = base2 + temp\n",
    "\n",
    "base2/600"
   ]
  },
  {
   "cell_type": "markdown",
   "id": "d3d3230b",
   "metadata": {},
   "source": [
    "-----"
   ]
  },
  {
   "cell_type": "markdown",
   "id": "b1bd4998",
   "metadata": {},
   "source": [
    "# Roadmap for Part 4 (Q8, Q9, Q9*)"
   ]
  },
  {
   "cell_type": "markdown",
   "id": "30b91f42",
   "metadata": {},
   "source": [
    "* Using the PyBLP, I will estimate the parameters from three different models. \n",
    "    * 1. Demand Alone \n",
    "    * 2. Jointly with Supply\n",
    "    * 3. 2 + Optimal IV\n",
    "* Comparing the estimates from the three different models, I will choose the preferred estimates.\n",
    "* Based on the estimates chosen from the above, I will calculate the own-price elasticities and diversion ratio."
   ]
  },
  {
   "cell_type": "markdown",
   "id": "e0302473",
   "metadata": {},
   "source": [
    "# Q8."
   ]
  },
  {
   "cell_type": "markdown",
   "id": "12e046d6",
   "metadata": {},
   "source": [
    "## Data Preparation for PyBLP"
   ]
  },
  {
   "cell_type": "code",
   "execution_count": 34,
   "id": "2cff8de7",
   "metadata": {},
   "outputs": [],
   "source": [
    "product_data = master[['j', 't', 'price', 'cost', 'x', \n",
    "                     'x_others', 'w', 'xi', \n",
    "                     'share', 'outside_share', 'satellite', 'wired', 'dependent_var']]\n",
    "product_data.columns = ['product_ids', 'market_ids', 'prices', 'cost', 'x',\n",
    "                     'demand_instrument1', 'demand_instrument0', 'xi',\n",
    "                     'shares', 'outside_shares', 'satellite', 'wired', 'dependent_var']\n",
    "product_data['firm_ids'] = product_data['product_ids']\n",
    "product_data['const'] = 1"
   ]
  },
  {
   "cell_type": "code",
   "execution_count": 35,
   "id": "20e08025",
   "metadata": {},
   "outputs": [],
   "source": [
    "initial_sigma = np.eye(2)\n",
    "initial_beta=[2, -1.5, 0.5]\n",
    "initial_gamma = [0.1, 0.1]"
   ]
  },
  {
   "cell_type": "code",
   "execution_count": 36,
   "id": "f3fde840",
   "metadata": {
    "scrolled": true
   },
   "outputs": [
    {
     "name": "stdout",
     "output_type": "stream",
     "text": [
      "Initializing the problem ...\n",
      "Initialized the problem after 00:00:00.\n",
      "\n",
      "Dimensions:\n",
      "=======================================\n",
      " T    N     F     I     K1    K2    MD \n",
      "---  ----  ---  -----  ----  ----  ----\n",
      "600  2400   4   48600   3     2     2  \n",
      "=======================================\n",
      "\n",
      "Formulations:\n",
      "=====================================================\n",
      "       Column Indices:             0        1      2 \n",
      "-----------------------------  ---------  ------  ---\n",
      " X1: Linear Characteristics        1      prices   x \n",
      "X2: Nonlinear Characteristics  satellite  wired      \n",
      "=====================================================\n",
      "Solving the problem ...\n",
      "\n",
      "Nonlinear Coefficient Initial Values:\n",
      "=======================================\n",
      " Sigma:      satellite        wired    \n",
      "---------  -------------  -------------\n",
      "satellite  +1.000000E+00               \n",
      "  wired    +0.000000E+00  +1.000000E+00\n",
      "=======================================\n",
      "\n",
      "Beta Initial Values:\n",
      "===========================================\n",
      "      1           prices            x      \n",
      "-------------  -------------  -------------\n",
      "+2.000000E+00  -1.500000E+00  +5.000000E-01\n",
      "===========================================\n",
      "\n",
      "Nonlinear Coefficient Lower Bounds:\n",
      "=======================================\n",
      " Sigma:      satellite        wired    \n",
      "---------  -------------  -------------\n",
      "satellite      -INF                    \n",
      "  wired    +0.000000E+00      -INF     \n",
      "=======================================\n",
      "\n",
      "Beta Lower Bounds:\n",
      "===========================================\n",
      "      1           prices            x      \n",
      "-------------  -------------  -------------\n",
      "    -INF           -INF           -INF     \n",
      "===========================================\n",
      "\n",
      "Nonlinear Coefficient Upper Bounds:\n",
      "=======================================\n",
      " Sigma:      satellite        wired    \n",
      "---------  -------------  -------------\n",
      "satellite      +INF                    \n",
      "  wired    +0.000000E+00      +INF     \n",
      "=======================================\n",
      "\n",
      "Beta Upper Bounds:\n",
      "===========================================\n",
      "      1           prices            x      \n",
      "-------------  -------------  -------------\n",
      "    +INF           +INF           +INF     \n",
      "===========================================\n",
      "\n",
      "Starting optimization ...\n",
      "\n",
      "GMM   Optimization   Objective   Fixed Point  Contraction  Clipped    Objective      Objective      Gradient                                                                              \n",
      "Step   Iterations   Evaluations  Iterations   Evaluations  Shares       Value       Improvement       Norm                                         Theta                                  \n",
      "----  ------------  -----------  -----------  -----------  -------  -------------  -------------  -------------  -------------------------------------------------------------------------\n",
      " 1         0             1          4377         13486        0     +2.557103E+03                 +1.314025E+04  +1.000000E+00, +1.000000E+00, +2.000000E+00, -1.500000E+00, +5.000000E-01\n",
      " 1         0             2          4417         13614        0     +1.001744E+04                 +2.674453E+04  +1.018815E+00, +1.019692E+00, +2.328335E+00, -5.984933E-01, +8.143881E-01\n",
      " 1         0             3          4404         13566        0     +8.183595E+01  +2.475267E+03  +4.797241E+02  +1.006264E+00, +1.006556E+00, +2.109318E+00, -1.199846E+00, +6.046744E-01\n",
      " 1         1             4          3059         9668         0     +7.098627E+04                 +1.418705E+04  +3.306618E-01, +2.223180E-01, +8.119654E-01, -3.598641E+00, +1.001879E+01\n",
      " 1         1             5          4366         13425        0     +2.104598E-04  +8.183574E+01  +7.611668E-01  +9.841828E-01, +9.809243E-01, +2.066915E+00, -1.278249E+00, +9.123673E-01\n",
      " 1         2             6          4367         13457        0     +2.310711E-09  +2.104575E-04  +2.923998E-03  +9.848452E-01, +9.818813E-01, +2.066818E+00, -1.278441E+00, +9.129739E-01\n",
      " 1         3             7          4367         13460        0     +7.660462E-17  +2.310711E-09  +5.724157E-07  +9.848433E-01, +9.818781E-01, +2.066818E+00, -1.278440E+00, +9.129719E-01\n",
      "\n",
      "Optimization completed after 00:00:09.\n",
      "Computing the Hessian and estimating standard errors ...\n",
      "Computed results after 00:00:15.\n",
      "\n",
      "Problem Results Summary:\n",
      "================================================================================================================\n",
      "GMM     Objective      Gradient         Hessian         Hessian     Clipped  Weighting Matrix  Covariance Matrix\n",
      "Step      Value          Norm       Min Eigenvalue  Max Eigenvalue  Shares   Condition Number  Condition Number \n",
      "----  -------------  -------------  --------------  --------------  -------  ----------------  -----------------\n",
      " 1    +7.660462E-17  +5.724157E-07  -2.118273E-08   +4.383233E+04      0      +8.708909E+00      +8.151054E+17  \n",
      "================================================================================================================\n",
      "\n",
      "Cumulative Statistics:\n",
      "===========================================================================\n",
      "Computation  Optimizer  Optimization   Objective   Fixed Point  Contraction\n",
      "   Time      Converged   Iterations   Evaluations  Iterations   Evaluations\n",
      "-----------  ---------  ------------  -----------  -----------  -----------\n",
      " 00:00:24       Yes          4             8          33724       104136   \n",
      "===========================================================================\n",
      "\n",
      "Nonlinear Coefficient Estimates (Robust SEs in Parentheses):\n",
      "===========================================\n",
      " Sigma:       satellite          wired     \n",
      "---------  ---------------  ---------------\n",
      "satellite   +9.848433E-01                  \n",
      "           (+2.255237E-03)                 \n",
      "                                           \n",
      "  wired     +0.000000E+00    +9.818781E-01 \n",
      "                            (+2.609636E-03)\n",
      "===========================================\n",
      "\n",
      "Beta Estimates (Robust SEs in Parentheses):\n",
      "=================================================\n",
      "       1             prices              x       \n",
      "---------------  ---------------  ---------------\n",
      " +2.066818E+00    -1.278440E+00    +9.129719E-01 \n",
      "(+4.933790E-03)  (+1.011893E-02)  (+3.162099E-02)\n",
      "=================================================\n"
     ]
    }
   ],
   "source": [
    "integration = pyblp.Integration('product', 9)\n",
    "product_formulation_demand = (pyblp.Formulation('1 + prices + x'),\n",
    "                              pyblp.Formulation('0 + satellite + wired'))\n",
    "problem_demand = pyblp.Problem(product_formulation_demand,\n",
    "                               product_data,\n",
    "                               integration = integration,\n",
    "                               costs_type = 'log')\n",
    "results_demand = problem_demand.solve(sigma = initial_sigma,\n",
    "                                      beta = initial_beta,\n",
    "                                      optimization= pyblp.Optimization('bfgs', {'gtol': 1e-5}),\n",
    "                                      method='1s')"
   ]
  },
  {
   "cell_type": "code",
   "execution_count": 37,
   "id": "558790e4",
   "metadata": {
    "scrolled": true
   },
   "outputs": [
    {
     "name": "stdout",
     "output_type": "stream",
     "text": [
      "Initializing the problem ...\n",
      "Initialized the problem after 00:00:00.\n",
      "\n",
      "Dimensions:\n",
      "===================================================\n",
      " T    N     F     I     K1    K2    K3    MD    MS \n",
      "---  ----  ---  -----  ----  ----  ----  ----  ----\n",
      "600  2400   4   48600   3     2     2     2     2  \n",
      "===================================================\n",
      "\n",
      "Formulations:\n",
      "=================================================================\n",
      "       Column Indices:             0              1            2 \n",
      "-----------------------------  ---------  ------------------  ---\n",
      " X1: Linear Characteristics        1            prices         x \n",
      "X2: Nonlinear Characteristics  satellite        wired            \n",
      "X3: Log Cost Characteristics       1      demand_instrument0     \n",
      "=================================================================\n",
      "Solving the problem ...\n",
      "\n",
      "Nonlinear Coefficient Initial Values:\n",
      "=======================================\n",
      " Sigma:      satellite        wired    \n",
      "---------  -------------  -------------\n",
      "satellite  +1.000000E+00               \n",
      "  wired    +0.000000E+00  +1.000000E+00\n",
      "=======================================\n",
      "\n",
      "Beta Initial Values:\n",
      "===========================================\n",
      "      1           prices            x      \n",
      "-------------  -------------  -------------\n",
      "+2.000000E+00  -1.500000E+00  +5.000000E-01\n",
      "===========================================\n",
      "\n",
      "Gamma Initial Values:\n",
      "=================================\n",
      "      1        demand_instrument0\n",
      "-------------  ------------------\n",
      "+1.000000E-01    +1.000000E-01   \n",
      "=================================\n",
      "\n",
      "Nonlinear Coefficient Lower Bounds:\n",
      "=======================================\n",
      " Sigma:      satellite        wired    \n",
      "---------  -------------  -------------\n",
      "satellite      -INF                    \n",
      "  wired    +0.000000E+00      -INF     \n",
      "=======================================\n",
      "\n",
      "Beta Lower Bounds:\n",
      "===========================================\n",
      "      1           prices            x      \n",
      "-------------  -------------  -------------\n",
      "    -INF           -INF           -INF     \n",
      "===========================================\n",
      "\n",
      "Gamma Lower Bounds:\n",
      "=================================\n",
      "      1        demand_instrument0\n",
      "-------------  ------------------\n",
      "    -INF             -INF        \n",
      "=================================\n",
      "\n",
      "Nonlinear Coefficient Upper Bounds:\n",
      "=======================================\n",
      " Sigma:      satellite        wired    \n",
      "---------  -------------  -------------\n",
      "satellite      +INF                    \n",
      "  wired    +0.000000E+00      +INF     \n",
      "=======================================\n",
      "\n",
      "Beta Upper Bounds:\n",
      "===========================================\n",
      "      1           prices            x      \n",
      "-------------  -------------  -------------\n",
      "    +INF           +INF           +INF     \n",
      "===========================================\n",
      "\n",
      "Gamma Upper Bounds:\n",
      "=================================\n",
      "      1        demand_instrument0\n",
      "-------------  ------------------\n",
      "    +INF             +INF        \n",
      "=================================\n",
      "\n",
      "Starting optimization ...\n",
      "\n",
      "GMM   Optimization   Objective   Fixed Point  Contraction  Clipped    Objective      Objective      Gradient                                                                                                            \n",
      "Step   Iterations   Evaluations  Iterations   Evaluations  Shares       Value       Improvement       Norm                                                        Theta                                                 \n",
      "----  ------------  -----------  -----------  -----------  -------  -------------  -------------  -------------  -------------------------------------------------------------------------------------------------------\n",
      " 1         0             1          4377         13486        0     +2.951162E+03                 +1.377343E+04  +1.000000E+00, +1.000000E+00, +2.000000E+00, -1.500000E+00, +5.000000E-01, +1.000000E-01, +1.000000E-01\n",
      "\n",
      "At least one error was encountered. As long as the optimization routine does not get stuck at values of theta that give rise to errors, this is not necessarily a problem. If the errors persist or seem to be impacting the optimization results, consider setting an error punishment or following any of the other suggestions below:\n",
      "Encountered nonpositive marginal costs in a log-linear specification. This problem can sometimes be mitigated by bounding costs from below, choosing more reasonable initial parameter values, setting more conservative parameter bounds, or using a linear costs specification.\n",
      "Reverted problematic marginal costs. Number of reverted elements: 556 out of 2400.\n",
      "\n",
      " 1         0             2          4425         13626        0     +1.145287E+04                 +1.036146E+05  +1.021963E+00, +1.022950E+00, +2.311657E+00, -6.030542E-01, +7.984178E-01, +2.214534E-01, +2.168132E-01\n",
      "\n",
      "At least one error was encountered. As long as the optimization routine does not get stuck at values of theta that give rise to errors, this is not necessarily a problem. If the errors persist or seem to be impacting the optimization results, consider setting an error punishment or following any of the other suggestions below:\n",
      "Encountered nonpositive marginal costs in a log-linear specification. This problem can sometimes be mitigated by bounding costs from below, choosing more reasonable initial parameter values, setting more conservative parameter bounds, or using a linear costs specification.\n",
      "Reverted problematic marginal costs. Number of reverted elements: 1 out of 2400.\n",
      "\n",
      " 1         0             3          4429         13634        0     +3.896041E+02  +2.561558E+03  +4.209854E+03  +1.009750E+00, +1.010188E+00, +2.138350E+00, -1.101829E+00, +6.324734E-01, +1.539155E-01, +1.518556E-01\n",
      " 1         1             4          4268         13145        0     +5.652045E+04                 +2.169528E+04  +9.205857E-01, +9.060904E-01, +1.557584E+00, -1.698036E+00, +2.014711E+00, +2.445969E+00, +3.283174E+00\n",
      "\n",
      "At least one error was encountered. As long as the optimization routine does not get stuck at values of theta that give rise to errors, this is not necessarily a problem. If the errors persist or seem to be impacting the optimization results, consider setting an error punishment or following any of the other suggestions below:\n",
      "Encountered nonpositive marginal costs in a log-linear specification. This problem can sometimes be mitigated by bounding costs from below, choosing more reasonable initial parameter values, setting more conservative parameter bounds, or using a linear costs specification.\n",
      "Reverted problematic marginal costs. Number of reverted elements: 1 out of 2400.\n",
      "\n",
      " 1         1             5          4409         13587        0     +2.727443E+02  +1.168598E+02  +4.216703E+03  +1.005913E+00, +1.005709E+00, +2.113361E+00, -1.127483E+00, +6.919497E-01, +2.525404E-01, +2.865933E-01\n",
      " 1         2             6          4343         13390        0     +2.169257E+02  +5.581858E+01  +3.716367E+03  +9.667315E-01, +9.621700E-01, +2.143539E+00, -1.257723E+00, +1.093604E+00, +1.935054E-01, +3.880094E-01\n",
      " 1         3             7          4266         13118        0     +4.460935E+02                 +2.772071E+03  +8.676580E-01, +8.766675E-01, +3.785400E+00, -1.899868E+00, +1.131349E+00, +9.957910E-01, +5.940564E-02\n",
      " 1         3             8          4324         13323        0     +2.020481E+02  +1.487761E+01  +3.553626E+03  +9.471044E-01, +9.452315E-01, +2.468801E+00, -1.384936E+00, +1.101081E+00, +3.524427E-01, +3.229111E-01\n",
      " 1         4             9          4274         13165        0     +2.080418E+02                 +3.405866E+03  +9.101149E-01, +9.144733E-01, +3.010277E+00, -1.559129E+00, +1.013286E+00, +3.603085E-01, +4.452077E-01\n",
      " 1         4            10          4303         13248        0     +1.958245E+02  +6.223579E+00  +3.485354E+03  +9.317119E-01, +9.324320E-01, +2.694126E+00, -1.457423E+00, +1.064547E+00, +3.557159E-01, +3.738026E-01\n",
      " 1         5            11          4282         13182        0     +1.834574E+02  +1.236715E+01  +3.376935E+03  +9.268643E-01, +9.267012E-01, +2.683736E+00, -1.454489E+00, +1.058682E+00, +3.528495E-01, +3.718018E-01\n",
      " 1         5            12          4271         13139        0     +1.380756E+02  +4.538176E+01  +2.942935E+03  +9.074738E-01, +9.037777E-01, +2.642177E+00, -1.442751E+00, +1.035221E+00, +3.413839E-01, +3.637985E-01\n"
     ]
    },
    {
     "name": "stdout",
     "output_type": "stream",
     "text": [
      " 1         6            13          4744         14607        0     +8.811198E+01  +4.996363E+01  +2.463531E+03  +4.358858E-01, +1.908364E+00, +2.630019E+00, -1.486130E+00, +1.034844E+00, +3.271585E-01, +3.389487E-01\n",
      " 1         7            14          4952         15154        0     +1.648541E+01  +7.162656E+01  +1.066370E+03  +8.536654E-01, +1.979538E+00, +2.630034E+00, -1.525227E+00, +1.027432E+00, +3.146434E-01, +3.199105E-01\n",
      "\n",
      "At least one error was encountered. As long as the optimization routine does not get stuck at values of theta that give rise to errors, this is not necessarily a problem. If the errors persist or seem to be impacting the optimization results, consider setting an error punishment or following any of the other suggestions below:\n",
      "Encountered nonpositive marginal costs in a log-linear specification. This problem can sometimes be mitigated by bounding costs from below, choosing more reasonable initial parameter values, setting more conservative parameter bounds, or using a linear costs specification.\n",
      "Reverted problematic marginal costs. Number of reverted elements: 7 out of 2400.\n",
      "\n",
      " 1         8            15          5037         15483        0     +4.469617E+01                 +1.285894E+03  +3.419481E+00, +4.436443E+00, +2.758101E+00, -1.821846E+00, +1.351082E+00, +1.281813E-01, +4.068181E-01\n",
      " 1         8            16          5123         15633        0     +3.503301E+00  +1.298211E+01  +3.944162E+02  +1.804898E+00, +2.890394E+00, +2.677513E+00, -1.635193E+00, +1.147420E+00, +2.455157E-01, +3.521300E-01\n",
      "\n",
      "At least one error was encountered. As long as the optimization routine does not get stuck at values of theta that give rise to errors, this is not necessarily a problem. If the errors persist or seem to be impacting the optimization results, consider setting an error punishment or following any of the other suggestions below:\n",
      "Encountered nonpositive marginal costs in a log-linear specification. This problem can sometimes be mitigated by bounding costs from below, choosing more reasonable initial parameter values, setting more conservative parameter bounds, or using a linear costs specification.\n",
      "Reverted problematic marginal costs. Number of reverted elements: 5 out of 2400.\n",
      "\n",
      " 1         9            17          5130         15712        0     +3.467131E+00  +3.617058E-02  +4.127168E+02  +2.574686E+00, +3.658529E+00, +2.611663E+00, -1.703927E+00, +1.296158E+00, +1.784846E-01, +3.722702E-01\n",
      "\n",
      "At least one error was encountered. As long as the optimization routine does not get stuck at values of theta that give rise to errors, this is not necessarily a problem. If the errors persist or seem to be impacting the optimization results, consider setting an error punishment or following any of the other suggestions below:\n",
      "Encountered nonpositive marginal costs in a log-linear specification. This problem can sometimes be mitigated by bounding costs from below, choosing more reasonable initial parameter values, setting more conservative parameter bounds, or using a linear costs specification.\n",
      "Reverted problematic marginal costs. Number of reverted elements: 1 out of 2400.\n",
      "\n",
      " 1         9            18          5146         15735        0     +1.147630E+00  +2.319500E+00  +4.846125E+01  +2.162027E+00, +3.246756E+00, +2.646963E+00, -1.667081E+00, +1.216424E+00, +2.144179E-01, +3.614737E-01\n",
      " 1         10           19          5190         15830        0     +1.249485E+00                 +7.388611E+01  +1.622540E+00, +2.695133E+00, +2.493721E+00, -1.577683E+00, +1.175371E+00, +2.305375E-01, +3.369925E-01\n",
      "\n",
      "At least one error was encountered. As long as the optimization routine does not get stuck at values of theta that give rise to errors, this is not necessarily a problem. If the errors persist or seem to be impacting the optimization results, consider setting an error punishment or following any of the other suggestions below:\n",
      "Encountered nonpositive marginal costs in a log-linear specification. This problem can sometimes be mitigated by bounding costs from below, choosing more reasonable initial parameter values, setting more conservative parameter bounds, or using a linear costs specification.\n",
      "Reverted problematic marginal costs. Number of reverted elements: 1 out of 2400.\n",
      "\n",
      " 1         10           20          5130         15690        0     +4.647413E-02  +1.101156E+00  +4.927871E+01  +1.905471E+00, +2.984429E+00, +2.574088E+00, -1.624568E+00, +1.196901E+00, +2.220836E-01, +3.498315E-01\n",
      "\n",
      "At least one error was encountered. As long as the optimization routine does not get stuck at values of theta that give rise to errors, this is not necessarily a problem. If the errors persist or seem to be impacting the optimization results, consider setting an error punishment or following any of the other suggestions below:\n",
      "Encountered nonpositive marginal costs in a log-linear specification. This problem can sometimes be mitigated by bounding costs from below, choosing more reasonable initial parameter values, setting more conservative parameter bounds, or using a linear costs specification.\n",
      "Reverted problematic marginal costs. Number of reverted elements: 1 out of 2400.\n",
      "\n",
      " 1         11           21          5102         15605        0     +5.426982E-04  +4.593143E-02  +2.537167E+00  +1.950068E+00, +3.030939E+00, +2.565477E+00, -1.626763E+00, +1.205271E+00, +2.136482E-01, +3.533234E-01\n",
      "\n",
      "At least one error was encountered. As long as the optimization routine does not get stuck at values of theta that give rise to errors, this is not necessarily a problem. If the errors persist or seem to be impacting the optimization results, consider setting an error punishment or following any of the other suggestions below:\n",
      "Encountered nonpositive marginal costs in a log-linear specification. This problem can sometimes be mitigated by bounding costs from below, choosing more reasonable initial parameter values, setting more conservative parameter bounds, or using a linear costs specification.\n",
      "Reverted problematic marginal costs. Number of reverted elements: 1 out of 2400.\n",
      "\n",
      " 1         12           22          5098         15584        0     +3.047892E-06  +5.396503E-04  +3.670014E-01  +1.956730E+00, +3.037893E+00, +2.565630E+00, -1.627390E+00, +1.206057E+00, +2.132779E-01, +3.532391E-01\n",
      "\n",
      "At least one error was encountered. As long as the optimization routine does not get stuck at values of theta that give rise to errors, this is not necessarily a problem. If the errors persist or seem to be impacting the optimization results, consider setting an error punishment or following any of the other suggestions below:\n",
      "Encountered nonpositive marginal costs in a log-linear specification. This problem can sometimes be mitigated by bounding costs from below, choosing more reasonable initial parameter values, setting more conservative parameter bounds, or using a linear costs specification.\n",
      "Reverted problematic marginal costs. Number of reverted elements: 1 out of 2400.\n",
      "\n",
      " 1         13           23          5094         15577        0     +9.097119E-09  +3.038795E-06  +7.081508E-03  +1.956616E+00, +3.037793E+00, +2.565669E+00, -1.627373E+00, +1.205999E+00, +2.132773E-01, +3.532401E-01\n",
      "\n",
      "At least one error was encountered. As long as the optimization routine does not get stuck at values of theta that give rise to errors, this is not necessarily a problem. If the errors persist or seem to be impacting the optimization results, consider setting an error punishment or following any of the other suggestions below:\n",
      "Encountered nonpositive marginal costs in a log-linear specification. This problem can sometimes be mitigated by bounding costs from below, choosing more reasonable initial parameter values, setting more conservative parameter bounds, or using a linear costs specification.\n",
      "Reverted problematic marginal costs. Number of reverted elements: 1 out of 2400.\n",
      "\n",
      " 1         14           24          5095         15578        0     +4.139955E-11  +9.055719E-09  +4.829928E-04  +1.956602E+00, +3.037778E+00, +2.565665E+00, -1.627370E+00, +1.205998E+00, +2.132803E-01, +3.532368E-01\n",
      "\n",
      "At least one error was encountered. As long as the optimization routine does not get stuck at values of theta that give rise to errors, this is not necessarily a problem. If the errors persist or seem to be impacting the optimization results, consider setting an error punishment or following any of the other suggestions below:\n",
      "Encountered nonpositive marginal costs in a log-linear specification. This problem can sometimes be mitigated by bounding costs from below, choosing more reasonable initial parameter values, setting more conservative parameter bounds, or using a linear costs specification.\n",
      "Reverted problematic marginal costs. Number of reverted elements: 1 out of 2400.\n",
      "\n",
      " 1         15           25          5098         15587        0     +2.202445E-13  +4.117931E-11  +4.335138E-05  +1.956601E+00, +3.037777E+00, +2.565665E+00, -1.627370E+00, +1.205998E+00, +2.132801E-01, +3.532368E-01\n"
     ]
    },
    {
     "name": "stdout",
     "output_type": "stream",
     "text": [
      "\n",
      "At least one error was encountered. As long as the optimization routine does not get stuck at values of theta that give rise to errors, this is not necessarily a problem. If the errors persist or seem to be impacting the optimization results, consider setting an error punishment or following any of the other suggestions below:\n",
      "Encountered nonpositive marginal costs in a log-linear specification. This problem can sometimes be mitigated by bounding costs from below, choosing more reasonable initial parameter values, setting more conservative parameter bounds, or using a linear costs specification.\n",
      "Reverted problematic marginal costs. Number of reverted elements: 1 out of 2400.\n",
      "\n",
      " 1         16           26          5095         15569        0     +6.686343E-16  +2.195759E-13  +2.159960E-06  +1.956601E+00, +3.037777E+00, +2.565665E+00, -1.627370E+00, +1.205998E+00, +2.132801E-01, +3.532368E-01\n",
      "\n",
      "Optimization completed after 00:00:47.\n",
      "Computing the Hessian and estimating standard errors ...\n",
      "\n",
      "Encountered nonpositive marginal costs in a log-linear specification. This problem can sometimes be mitigated by bounding costs from below, choosing more reasonable initial parameter values, setting more conservative parameter bounds, or using a linear costs specification.\n",
      "Reverted problematic marginal costs. Number of reverted elements: 1 out of 2400.\n",
      "\n",
      "Computed results after 00:00:28.\n",
      "\n",
      "Problem Results Summary:\n",
      "================================================================================================================\n",
      "GMM     Objective      Gradient         Hessian         Hessian     Clipped  Weighting Matrix  Covariance Matrix\n",
      "Step      Value          Norm       Min Eigenvalue  Max Eigenvalue  Shares   Condition Number  Condition Number \n",
      "----  -------------  -------------  --------------  --------------  -------  ----------------  -----------------\n",
      " 1    +6.686343E-16  +2.159960E-06  -1.872672E-02   +4.489102E+04      0      +8.956295E+00      +6.679743E+17  \n",
      "================================================================================================================\n",
      "\n",
      "Cumulative Statistics:\n",
      "===========================================================================\n",
      "Computation  Optimizer  Optimization   Objective   Fixed Point  Contraction\n",
      "   Time      Converged   Iterations   Evaluations  Iterations   Evaluations\n",
      "-----------  ---------  ------------  -----------  -----------  -----------\n",
      " 00:01:14       Yes          17           27         128100       392956   \n",
      "===========================================================================\n",
      "\n",
      "Nonlinear Coefficient Estimates (Robust SEs in Parentheses):\n",
      "===========================================\n",
      " Sigma:       satellite          wired     \n",
      "---------  ---------------  ---------------\n",
      "satellite   +1.956601E+00                  \n",
      "           (+3.522591E-03)                 \n",
      "                                           \n",
      "  wired     +0.000000E+00    +3.037777E+00 \n",
      "                            (+5.165886E-03)\n",
      "===========================================\n",
      "\n",
      "Beta Estimates (Robust SEs in Parentheses):\n",
      "=================================================\n",
      "       1             prices              x       \n",
      "---------------  ---------------  ---------------\n",
      " +2.565665E+00    -1.627370E+00    +1.205998E+00 \n",
      "(+9.201675E-03)  (+1.266412E-02)  (+4.238973E-02)\n",
      "=================================================\n",
      "\n",
      "Gamma Estimates (Robust SEs in Parentheses):\n",
      "===================================\n",
      "       1         demand_instrument0\n",
      "---------------  ------------------\n",
      " +2.132801E-01     +3.532368E-01   \n",
      "(+1.286965E-02)   (+8.788911E-03)  \n",
      "===================================\n"
     ]
    }
   ],
   "source": [
    "product_formulation_supply = (pyblp.Formulation('1 + prices + x'),\n",
    "                              pyblp.Formulation('0 + satellite + wired'),\n",
    "                              pyblp.Formulation('1 + demand_instrument0'))\n",
    "problem_supply = pyblp.Problem(product_formulation_supply,\n",
    "                               product_data,\n",
    "                               integration = integration,\n",
    "                               costs_type = 'log')\n",
    "\n",
    "results_supply = problem_supply.solve(sigma = initial_sigma,\n",
    "                                      beta = initial_beta,\n",
    "                                      gamma = initial_gamma,\n",
    "                                      optimization= pyblp.Optimization('bfgs', {'gtol': 1e-5}),\n",
    "                                      method='1s')"
   ]
  },
  {
   "cell_type": "code",
   "execution_count": 38,
   "id": "a5a0cd0f",
   "metadata": {
    "scrolled": true
   },
   "outputs": [
    {
     "name": "stdout",
     "output_type": "stream",
     "text": [
      "Computing optimal instruments for theta ...\n",
      "Computed optimal instruments after 00:00:02.\n",
      "\n",
      "Optimal Instrument Results Summary:\n",
      "=================================================\n",
      "Computation  Error Term  Fixed Point  Contraction\n",
      "   Time        Draws     Iterations   Evaluations\n",
      "-----------  ----------  -----------  -----------\n",
      " 00:00:02        1          14024        14024   \n",
      "=================================================\n",
      "Re-creating the problem ...\n",
      "Re-created the problem after 00:00:00.\n",
      "\n",
      "Dimensions:\n",
      "===================================================\n",
      " T    N     F     I     K1    K2    K3    MD    MS \n",
      "---  ----  ---  -----  ----  ----  ----  ----  ----\n",
      "600  2400   4   48600   3     2     2     6     6  \n",
      "===================================================\n",
      "\n",
      "Formulations:\n",
      "=================================================================\n",
      "       Column Indices:             0              1            2 \n",
      "-----------------------------  ---------  ------------------  ---\n",
      " X1: Linear Characteristics        1            prices         x \n",
      "X2: Nonlinear Characteristics  satellite        wired            \n",
      "X3: Log Cost Characteristics       1      demand_instrument0     \n",
      "=================================================================\n",
      "Solving the problem ...\n",
      "\n",
      "Nonlinear Coefficient Initial Values:\n",
      "=======================================\n",
      " Sigma:      satellite        wired    \n",
      "---------  -------------  -------------\n",
      "satellite  +1.956601E+00               \n",
      "  wired    +0.000000E+00  +3.037777E+00\n",
      "=======================================\n",
      "\n",
      "Beta Initial Values:\n",
      "===========================================\n",
      "      1           prices            x      \n",
      "-------------  -------------  -------------\n",
      "+2.565665E+00  -1.627370E+00  +1.205998E+00\n",
      "===========================================\n",
      "\n",
      "Nonlinear Coefficient Lower Bounds:\n",
      "=======================================\n",
      " Sigma:      satellite        wired    \n",
      "---------  -------------  -------------\n",
      "satellite      -INF                    \n",
      "  wired    +0.000000E+00      -INF     \n",
      "=======================================\n",
      "\n",
      "Beta Lower Bounds:\n",
      "===========================================\n",
      "      1           prices            x      \n",
      "-------------  -------------  -------------\n",
      "    -INF           -INF           -INF     \n",
      "===========================================\n",
      "\n",
      "Nonlinear Coefficient Upper Bounds:\n",
      "=======================================\n",
      " Sigma:      satellite        wired    \n",
      "---------  -------------  -------------\n",
      "satellite      +INF                    \n",
      "  wired    +0.000000E+00      +INF     \n",
      "=======================================\n",
      "\n",
      "Beta Upper Bounds:\n",
      "===========================================\n",
      "      1           prices            x      \n",
      "-------------  -------------  -------------\n",
      "    +INF           +INF           +INF     \n",
      "===========================================\n",
      "\n",
      "Starting optimization ...\n",
      "\n",
      "\n",
      "At least one error was encountered. As long as the optimization routine does not get stuck at values of theta that give rise to errors, this is not necessarily a problem. If the errors persist or seem to be impacting the optimization results, consider setting an error punishment or following any of the other suggestions below:\n",
      "Encountered nonpositive marginal costs in a log-linear specification. This problem can sometimes be mitigated by bounding costs from below, choosing more reasonable initial parameter values, setting more conservative parameter bounds, or using a linear costs specification.\n",
      "Reverted problematic marginal costs. Number of reverted elements: 1 out of 2400.\n",
      "\n",
      "GMM   Optimization   Objective   Fixed Point  Contraction  Clipped    Objective      Objective      Gradient                                                                              \n",
      "Step   Iterations   Evaluations  Iterations   Evaluations  Shares       Value       Improvement       Norm                                         Theta                                  \n",
      "----  ------------  -----------  -----------  -----------  -------  -------------  -------------  -------------  -------------------------------------------------------------------------\n",
      " 1         0             1          5095         15569        0     +5.194417E+02                 +4.865948E+02  +1.956601E+00, +3.037777E+00, +2.565665E+00, -1.627370E+00, +1.205998E+00\n",
      " 1         0             2          5069         15460        0     +1.022595E+04                 +2.680032E+04  +2.038927E+00, +2.344111E+00, +2.565665E+00, -2.356856E+00, +1.205998E+00\n",
      " 1         0             3          5098         15575        0     +5.160627E+02  +3.378976E+00  +5.120219E+02  +1.959252E+00, +3.015437E+00, +2.565665E+00, -1.650864E+00, +1.205998E+00\n",
      " 1         1             4          5091         15548        0     +5.102638E+02  +5.798912E+00  +4.448546E+02  +1.959983E+00, +3.004933E+00, +2.569195E+00, -1.654820E+00, +1.208811E+00\n",
      " 1         2             5          5083         15538        0     +4.988226E+02  +1.144122E+01  +4.371591E+02  +1.978971E+00, +2.974321E+00, +2.560822E+00, -1.647638E+00, +1.199797E+00\n",
      " 1         2             6          5090         15536        0     +4.585514E+02  +4.027114E+01  +4.085345E+02  +2.054922E+00, +2.851874E+00, +2.527333E+00, -1.618910E+00, +1.163738E+00\n",
      "\n",
      "At least one error was encountered. As long as the optimization routine does not get stuck at values of theta that give rise to errors, this is not necessarily a problem. If the errors persist or seem to be impacting the optimization results, consider setting an error punishment or following any of the other suggestions below:\n",
      "Encountered nonpositive marginal costs in a log-linear specification. This problem can sometimes be mitigated by bounding costs from below, choosing more reasonable initial parameter values, setting more conservative parameter bounds, or using a linear costs specification.\n",
      "Reverted problematic marginal costs. Number of reverted elements: 1 out of 2400.\n",
      "\n",
      " 1         3             7          5104         15576        0     +4.883666E+02                 +4.263370E+02  +2.162263E+00, +2.537080E+00, +2.052966E+00, -1.522312E+00, +1.491568E+00\n",
      " 1         3             8          5072         15469        0     +4.389797E+02  +1.957178E+01  +4.163485E+02  +2.096972E+00, +2.728555E+00, +2.341503E+00, -1.581069E+00, +1.292163E+00\n",
      " 1         4             9          5080         15528        0     +4.090471E+02  +2.993253E+01  +7.465984E+02  +1.698940E+00, +2.449813E+00, +2.056775E+00, -1.442776E+00, +1.211722E+00\n",
      " 1         5            10          5041         15409        0     +3.618417E+02  +4.720541E+01  +3.059571E+02  +1.519872E+00, +2.181893E+00, +1.893888E+00, -1.350444E+00, +1.138422E+00\n",
      "\n",
      "At least one error was encountered. As long as the optimization routine does not get stuck at values of theta that give rise to errors, this is not necessarily a problem. If the errors persist or seem to be impacting the optimization results, consider setting an error punishment or following any of the other suggestions below:\n",
      "Encountered nonpositive marginal costs in a log-linear specification. This problem can sometimes be mitigated by bounding costs from below, choosing more reasonable initial parameter values, setting more conservative parameter bounds, or using a linear costs specification.\n",
      "Reverted problematic marginal costs. Number of reverted elements: 1 out of 2400.\n",
      "\n",
      " 1         6            11          4940         15101        0     +3.034904E+02  +5.835136E+01  +1.529088E+03  +1.563179E+00, +1.728190E+00, +1.724157E+00, -1.221244E+00, +1.012321E+00\n",
      "\n",
      "At least one error was encountered. As long as the optimization routine does not get stuck at values of theta that give rise to errors, this is not necessarily a problem. If the errors persist or seem to be impacting the optimization results, consider setting an error punishment or following any of the other suggestions below:\n",
      "Encountered nonpositive marginal costs in a log-linear specification. This problem can sometimes be mitigated by bounding costs from below, choosing more reasonable initial parameter values, setting more conservative parameter bounds, or using a linear costs specification.\n",
      "Reverted problematic marginal costs. Number of reverted elements: 1 out of 2400.\n",
      "\n",
      " 1         7            12          4861         14868        0     +2.814075E+02  +2.208284E+01  +6.004881E+02  +1.379492E+00, +1.482004E+00, +1.622807E+00, -1.147440E+00, +9.412919E-01\n"
     ]
    },
    {
     "name": "stdout",
     "output_type": "stream",
     "text": [
      "\n",
      "At least one error was encountered. As long as the optimization routine does not get stuck at values of theta that give rise to errors, this is not necessarily a problem. If the errors persist or seem to be impacting the optimization results, consider setting an error punishment or following any of the other suggestions below:\n",
      "Encountered nonpositive marginal costs in a log-linear specification. This problem can sometimes be mitigated by bounding costs from below, choosing more reasonable initial parameter values, setting more conservative parameter bounds, or using a linear costs specification.\n",
      "Reverted problematic marginal costs. Number of reverted elements: 1 out of 2400.\n",
      "\n",
      " 1         8            13          4845         14810        0     +2.736574E+02  +7.750090E+00  +7.012253E+02  +1.390777E+00, +1.387521E+00, +1.593826E+00, -1.133624E+00, +9.506546E-01\n",
      "\n",
      "At least one error was encountered. As long as the optimization routine does not get stuck at values of theta that give rise to errors, this is not necessarily a problem. If the errors persist or seem to be impacting the optimization results, consider setting an error punishment or following any of the other suggestions below:\n",
      "Encountered nonpositive marginal costs in a log-linear specification. This problem can sometimes be mitigated by bounding costs from below, choosing more reasonable initial parameter values, setting more conservative parameter bounds, or using a linear costs specification.\n",
      "Reverted problematic marginal costs. Number of reverted elements: 1 out of 2400.\n",
      "\n",
      " 1         9            14          4754         14598        0     +2.601788E+02  +1.347862E+01  +7.262359E+02  +1.352478E+00, +1.256226E+00, +1.566328E+00, -1.118816E+00, +9.554196E-01\n",
      "\n",
      "At least one error was encountered. As long as the optimization routine does not get stuck at values of theta that give rise to errors, this is not necessarily a problem. If the errors persist or seem to be impacting the optimization results, consider setting an error punishment or following any of the other suggestions below:\n",
      "Encountered nonpositive marginal costs in a log-linear specification. This problem can sometimes be mitigated by bounding costs from below, choosing more reasonable initial parameter values, setting more conservative parameter bounds, or using a linear costs specification.\n",
      "Reverted problematic marginal costs. Number of reverted elements: 1 out of 2400.\n",
      "\n",
      " 1         10           15          4656         14298        0     +2.365323E+02  +2.364655E+01  +7.158794E+02  +1.305173E+00, +1.102120E+00, +1.599226E+00, -1.125435E+00, +9.578818E-01\n",
      "\n",
      "At least one error was encountered. As long as the optimization routine does not get stuck at values of theta that give rise to errors, this is not necessarily a problem. If the errors persist or seem to be impacting the optimization results, consider setting an error punishment or following any of the other suggestions below:\n",
      "Encountered nonpositive marginal costs in a log-linear specification. This problem can sometimes be mitigated by bounding costs from below, choosing more reasonable initial parameter values, setting more conservative parameter bounds, or using a linear costs specification.\n",
      "Reverted problematic marginal costs. Number of reverted elements: 1 out of 2400.\n",
      "\n",
      " 1         11           16          4538         13973        0     +1.956407E+02  +4.089155E+01  +6.477004E+02  +1.226113E+00, +8.988046E-01, +1.742231E+00, -1.170508E+00, +9.556924E-01\n",
      " 1         12           17          4427         13639        0     +1.274419E+02  +6.819880E+01  +5.344455E+02  +1.146557E+00, +6.396258E-01, +2.162898E+00, -1.318020E+00, +9.557544E-01\n",
      " 1         13           18          4199         12984        0     +3.142101E+01  +9.602090E+01  +3.003030E+02  +1.030881E+00, +2.383968E-01, +3.223196E+00, -1.701196E+00, +9.599535E-01\n",
      " 1         14           19          4075         12632        0     +3.773813E+00  +2.764720E+01  +9.149311E+01  +8.820559E-01, -5.102426E-02, +4.001934E+00, -1.980421E+00, +9.509989E-01\n",
      " 1         15           20          4023         12522        0     +2.474627E+00  +1.299186E+00  +1.777094E+01  +8.200152E-01, -1.310999E-01, +4.175983E+00, -2.043585E+00, +9.506870E-01\n",
      " 1         16           21          4001         12464        0     +2.451141E+00  +2.348558E-02  +1.533521E+00  +8.069613E-01, -1.421608E-01, +4.183045E+00, -2.046549E+00, +9.518304E-01\n",
      " 1         17           22          3999         12457        0     +2.444638E+00  +6.503001E-03  +1.235946E+00  +8.001279E-01, -1.507067E-01, +4.182286E+00, -2.046111E+00, +9.517854E-01\n",
      " 1         18           23          4009         12469        0     +2.434149E+00  +1.048903E-02  +2.300282E+00  +7.934817E-01, -1.652678E-01, +4.180935E+00, -2.045618E+00, +9.524254E-01\n",
      " 1         19           24          4007         12467        0     +2.416398E+00  +1.775131E-02  +8.566149E+00  +7.873186E-01, -1.903199E-01, +4.179829E+00, -2.045257E+00, +9.533076E-01\n",
      " 1         20           25          4027         12513        0     +2.386529E+00  +2.986917E-02  +1.859982E+01  +7.831667E-01, -2.308801E-01, +4.179360E+00, -2.045467E+00, +9.549916E-01\n",
      " 1         21           26          4093         12673        0     +2.340929E+00  +4.559948E-02  +3.368518E+01  +7.847179E-01, -2.927649E-01, +4.180079E+00, -2.046804E+00, +9.580012E-01\n",
      " 1         22           27          4154         12839        0     +2.269917E+00  +7.101277E-02  +4.735110E+01  +8.010149E-01, -3.611289E-01, +4.182698E+00, -2.050020E+00, +9.626780E-01\n",
      " 1         23           28          4165         12824        0     +2.150280E+00  +1.196370E-01  +5.275728E+01  +8.351411E-01, -4.215414E-01, +4.188760E+00, -2.055491E+00, +9.680337E-01\n",
      " 1         24           29          4195         12938        0     +1.972317E+00  +1.779630E-01  +4.574388E+01  +8.951149E-01, -4.848745E-01, +4.204918E+00, -2.065959E+00, +9.734895E-01\n",
      " 1         25           30          4253         13106        0     +1.889308E+00  +8.300838E-02  +2.256882E+01  +9.428934E-01, -5.283963E-01, +4.229584E+00, -2.078090E+00, +9.746307E-01\n",
      " 1         26           31          4240         13065        0     +1.881215E+00  +8.093388E-03  +5.166815E+00  +9.396523E-01, -5.199218E-01, +4.233254E+00, -2.079378E+00, +9.736503E-01\n",
      " 1         27           32          4241         13045        0     +1.880987E+00  +2.281097E-04  +1.173481E+00  +9.367162E-01, -5.284686E-01, +4.236046E+00, -2.080310E+00, +9.727643E-01\n",
      " 1         27           33          4252         13085        0     +1.880031E+00  +9.557492E-04  +2.438709E+00  +9.381093E-01, -5.244132E-01, +4.234721E+00, -2.079868E+00, +9.731847E-01\n",
      " 1         28           34          4243         13058        0     +1.879908E+00  +1.234705E-04  +1.283947E-01  +9.371233E-01, -5.230360E-01, +4.233930E+00, -2.079600E+00, +9.731907E-01\n",
      " 1         29           35          4242         13045        0     +1.879907E+00  +1.028917E-06  +2.306662E-03  +9.372108E-01, -5.232509E-01, +4.233876E+00, -2.079588E+00, +9.732072E-01\n",
      " 1         30           36          4243         13055        0     +1.879907E+00  +5.484536E-09  +1.389411E-04  +9.372158E-01, -5.232647E-01, +4.233869E+00, -2.079586E+00, +9.732089E-01\n",
      " 1         31           37          4244         13054        0     +1.879907E+00  +8.295586E-13  +2.926325E-06  +9.372158E-01, -5.232647E-01, +4.233869E+00, -2.079586E+00, +9.732089E-01\n",
      "\n",
      "Optimization completed after 00:01:02.\n",
      "Computing the Hessian and estimating standard errors ...\n",
      "Computed results after 00:00:18.\n",
      "\n",
      "Problem Results Summary:\n",
      "================================================================================================================\n",
      "GMM     Objective      Gradient         Hessian         Hessian     Clipped  Weighting Matrix  Covariance Matrix\n",
      "Step      Value          Norm       Min Eigenvalue  Max Eigenvalue  Shares   Condition Number  Condition Number \n",
      "----  -------------  -------------  --------------  --------------  -------  ----------------  -----------------\n",
      " 1    +1.879907E+00  +2.926325E-06  +1.279610E+01   +4.413894E+04      0      +7.724297E+04      +5.241622E+04  \n",
      "================================================================================================================\n",
      "\n",
      "Cumulative Statistics:\n",
      "===========================================================================\n",
      "Computation  Optimizer  Optimization   Objective   Fixed Point  Contraction\n",
      "   Time      Converged   Iterations   Evaluations  Iterations   Evaluations\n",
      "-----------  ---------  ------------  -----------  -----------  -----------\n",
      " 00:01:20       Yes          32           38         170993       525844   \n",
      "===========================================================================\n",
      "\n",
      "Nonlinear Coefficient Estimates (Robust SEs in Parentheses):\n",
      "===========================================\n",
      " Sigma:       satellite          wired     \n",
      "---------  ---------------  ---------------\n",
      "satellite   +9.372158E-01                  \n",
      "           (+2.317395E-01)                 \n",
      "                                           \n",
      "  wired     +0.000000E+00    -5.232647E-01 \n",
      "                            (+3.418303E-01)\n",
      "===========================================\n",
      "\n",
      "Beta Estimates (Robust SEs in Parentheses):\n",
      "=================================================\n",
      "       1             prices              x       \n",
      "---------------  ---------------  ---------------\n",
      " +4.233869E+00    -2.079586E+00    +9.732089E-01 \n",
      "(+2.165984E-01)  (+9.069306E-02)  (+4.637902E-02)\n",
      "=================================================\n",
      "\n",
      "Gamma Estimates (Robust SEs in Parentheses):\n",
      "===================================\n",
      "       1         demand_instrument0\n",
      "---------------  ------------------\n",
      " +5.330637E-01     +2.360228E-01   \n",
      "(+1.624059E-02)   (+7.147991E-03)  \n",
      "===================================\n"
     ]
    },
    {
     "data": {
      "text/plain": [
       "Problem Results Summary:\n",
       "================================================================================================================\n",
       "GMM     Objective      Gradient         Hessian         Hessian     Clipped  Weighting Matrix  Covariance Matrix\n",
       "Step      Value          Norm       Min Eigenvalue  Max Eigenvalue  Shares   Condition Number  Condition Number \n",
       "----  -------------  -------------  --------------  --------------  -------  ----------------  -----------------\n",
       " 1    +1.879907E+00  +2.926325E-06  +1.279610E+01   +4.413894E+04      0      +7.724297E+04      +5.241622E+04  \n",
       "================================================================================================================\n",
       "\n",
       "Cumulative Statistics:\n",
       "===========================================================================\n",
       "Computation  Optimizer  Optimization   Objective   Fixed Point  Contraction\n",
       "   Time      Converged   Iterations   Evaluations  Iterations   Evaluations\n",
       "-----------  ---------  ------------  -----------  -----------  -----------\n",
       " 00:01:20       Yes          32           38         170993       525844   \n",
       "===========================================================================\n",
       "\n",
       "Nonlinear Coefficient Estimates (Robust SEs in Parentheses):\n",
       "===========================================\n",
       " Sigma:       satellite          wired     \n",
       "---------  ---------------  ---------------\n",
       "satellite   +9.372158E-01                  \n",
       "           (+2.317395E-01)                 \n",
       "                                           \n",
       "  wired     +0.000000E+00    -5.232647E-01 \n",
       "                            (+3.418303E-01)\n",
       "===========================================\n",
       "\n",
       "Beta Estimates (Robust SEs in Parentheses):\n",
       "=================================================\n",
       "       1             prices              x       \n",
       "---------------  ---------------  ---------------\n",
       " +4.233869E+00    -2.079586E+00    +9.732089E-01 \n",
       "(+2.165984E-01)  (+9.069306E-02)  (+4.637902E-02)\n",
       "=================================================\n",
       "\n",
       "Gamma Estimates (Robust SEs in Parentheses):\n",
       "===================================\n",
       "       1         demand_instrument0\n",
       "---------------  ------------------\n",
       " +5.330637E-01     +2.360228E-01   \n",
       "(+1.624059E-02)   (+7.147991E-03)  \n",
       "==================================="
      ]
     },
     "execution_count": 38,
     "metadata": {},
     "output_type": "execute_result"
    }
   ],
   "source": [
    "instrument_results = results_supply.compute_optimal_instruments(method='approximate')\n",
    "updated_problem = instrument_results.to_problem()\n",
    "updated_results = updated_problem.solve(sigma = results_supply.sigma,\n",
    "                                        beta = results_supply.beta,\n",
    "                                        optimization=pyblp.Optimization('bfgs', {'gtol': 1e-5}),\n",
    "                                        method='1s')\n",
    "updated_results"
   ]
  },
  {
   "cell_type": "code",
   "execution_count": 39,
   "id": "21f8357d",
   "metadata": {},
   "outputs": [
    {
     "name": "stdout",
     "output_type": "stream",
     "text": [
      "estimate for price from demand only:  [-1.27843995]\n",
      "estimate for price from demand and supply:  [-1.62737014]\n",
      "estimate for price from optimal IV:  [-2.07958642]\n"
     ]
    }
   ],
   "source": [
    "print(\"estimate for price from demand only: \",results_demand.beta[1])\n",
    "print(\"estimate for price from demand and supply: \",results_supply.beta[1])\n",
    "print(\"estimate for price from optimal IV: \",updated_results.beta[1])"
   ]
  },
  {
   "cell_type": "code",
   "execution_count": 118,
   "id": "09018e5d",
   "metadata": {},
   "outputs": [
    {
     "name": "stdout",
     "output_type": "stream",
     "text": [
      "estimate for x from demand only:  [0.91297191]\n",
      "estimate for x from demand and supply:  [1.20599759]\n",
      "estimate for x from optimal IV:  [0.97320892]\n"
     ]
    }
   ],
   "source": [
    "print(\"estimate for x from demand only: \",results_demand.beta[2])\n",
    "print(\"estimate for x from demand and supply: \",results_supply.beta[2])\n",
    "print(\"estimate for x from optimal IV: \",updated_results.beta[2])"
   ]
  },
  {
   "cell_type": "code",
   "execution_count": 41,
   "id": "2ce9a700",
   "metadata": {
    "scrolled": true
   },
   "outputs": [
    {
     "name": "stdout",
     "output_type": "stream",
     "text": [
      "Computing elasticities with respect to prices ...\n",
      "Finished after 00:00:00.\n",
      "\n"
     ]
    }
   ],
   "source": [
    "elasticities = updated_results.compute_elasticities()"
   ]
  },
  {
   "cell_type": "markdown",
   "id": "02e5de02",
   "metadata": {},
   "source": [
    "* It turns out that under the optimal IV specification, estiamtes are close to the true values.\n",
    "* So hereon, I will use the estimates from the optimal IV specification."
   ]
  },
  {
   "cell_type": "code",
   "execution_count": 42,
   "id": "763fba83",
   "metadata": {},
   "outputs": [],
   "source": [
    "def get_negative(num):\n",
    "    if num < 0:\n",
    "        return num \n",
    "    else:\n",
    "        return \n",
    "\n",
    "optimal_elasticity = [list(filter(get_negative, elasticity))[0] for elasticity in elasticities]\n",
    "master['estimated_elasticity_optimal'] = optimal_elasticity"
   ]
  },
  {
   "cell_type": "code",
   "execution_count": 44,
   "id": "7e9d1a9f",
   "metadata": {},
   "outputs": [
    {
     "data": {
      "text/html": [
       "<div>\n",
       "<style scoped>\n",
       "    .dataframe tbody tr th:only-of-type {\n",
       "        vertical-align: middle;\n",
       "    }\n",
       "\n",
       "    .dataframe tbody tr th {\n",
       "        vertical-align: top;\n",
       "    }\n",
       "\n",
       "    .dataframe thead th {\n",
       "        text-align: right;\n",
       "    }\n",
       "</style>\n",
       "<table border=\"1\" class=\"dataframe\">\n",
       "  <thead>\n",
       "    <tr style=\"text-align: right;\">\n",
       "      <th></th>\n",
       "      <th>true_price_elasticity</th>\n",
       "      <th>estimated_elasticity_optimal</th>\n",
       "      <th>difference_optimal</th>\n",
       "    </tr>\n",
       "  </thead>\n",
       "  <tbody>\n",
       "    <tr>\n",
       "      <th>0</th>\n",
       "      <td>-6.728905</td>\n",
       "      <td>-7.080452</td>\n",
       "      <td>0.351547</td>\n",
       "    </tr>\n",
       "    <tr>\n",
       "      <th>1</th>\n",
       "      <td>-2.947563</td>\n",
       "      <td>-3.322342</td>\n",
       "      <td>0.374779</td>\n",
       "    </tr>\n",
       "    <tr>\n",
       "      <th>2</th>\n",
       "      <td>-3.829131</td>\n",
       "      <td>-4.267362</td>\n",
       "      <td>0.438231</td>\n",
       "    </tr>\n",
       "    <tr>\n",
       "      <th>3</th>\n",
       "      <td>-5.260461</td>\n",
       "      <td>-5.687085</td>\n",
       "      <td>0.426625</td>\n",
       "    </tr>\n",
       "    <tr>\n",
       "      <th>4</th>\n",
       "      <td>-3.673104</td>\n",
       "      <td>-4.065013</td>\n",
       "      <td>0.391909</td>\n",
       "    </tr>\n",
       "    <tr>\n",
       "      <th>...</th>\n",
       "      <td>...</td>\n",
       "      <td>...</td>\n",
       "      <td>...</td>\n",
       "    </tr>\n",
       "    <tr>\n",
       "      <th>595</th>\n",
       "      <td>-2.914013</td>\n",
       "      <td>-2.984934</td>\n",
       "      <td>0.070921</td>\n",
       "    </tr>\n",
       "    <tr>\n",
       "      <th>596</th>\n",
       "      <td>-6.290404</td>\n",
       "      <td>-6.434326</td>\n",
       "      <td>0.143922</td>\n",
       "    </tr>\n",
       "    <tr>\n",
       "      <th>597</th>\n",
       "      <td>-6.518484</td>\n",
       "      <td>-6.716635</td>\n",
       "      <td>0.198151</td>\n",
       "    </tr>\n",
       "    <tr>\n",
       "      <th>598</th>\n",
       "      <td>-2.875246</td>\n",
       "      <td>-3.006371</td>\n",
       "      <td>0.131125</td>\n",
       "    </tr>\n",
       "    <tr>\n",
       "      <th>599</th>\n",
       "      <td>-3.769559</td>\n",
       "      <td>-3.841638</td>\n",
       "      <td>0.072079</td>\n",
       "    </tr>\n",
       "  </tbody>\n",
       "</table>\n",
       "<p>2400 rows × 3 columns</p>\n",
       "</div>"
      ],
      "text/plain": [
       "     true_price_elasticity  estimated_elasticity_optimal  difference_optimal\n",
       "0                -6.728905                     -7.080452            0.351547\n",
       "1                -2.947563                     -3.322342            0.374779\n",
       "2                -3.829131                     -4.267362            0.438231\n",
       "3                -5.260461                     -5.687085            0.426625\n",
       "4                -3.673104                     -4.065013            0.391909\n",
       "..                     ...                           ...                 ...\n",
       "595              -2.914013                     -2.984934            0.070921\n",
       "596              -6.290404                     -6.434326            0.143922\n",
       "597              -6.518484                     -6.716635            0.198151\n",
       "598              -2.875246                     -3.006371            0.131125\n",
       "599              -3.769559                     -3.841638            0.072079\n",
       "\n",
       "[2400 rows x 3 columns]"
      ]
     },
     "execution_count": 44,
     "metadata": {},
     "output_type": "execute_result"
    }
   ],
   "source": [
    "master['difference_optimal'] = np.abs(np.array(master['true_price_elasticity'])-np.array(master['estimated_elasticity_optimal'])) \n",
    "master[['true_price_elasticity', 'estimated_elasticity_optimal', 'difference_optimal']]"
   ]
  },
  {
   "cell_type": "code",
   "execution_count": 143,
   "id": "f8b1272b",
   "metadata": {},
   "outputs": [
    {
     "name": "stdout",
     "output_type": "stream",
     "text": [
      "Average True Price Elasticity:  -4.176652340847776\n",
      "Average Estimated Price Elasticity(Optimal IV):  -4.426948228810532\n"
     ]
    }
   ],
   "source": [
    "print(\"Average True Price Elasticity: \", np.array(master['true_price_elasticity']).mean())\n",
    "print(\"Average Estimated Price Elasticity(Optimal IV): \", np.array(master['estimated_elasticity_optimal']).mean())"
   ]
  },
  {
   "cell_type": "code",
   "execution_count": 46,
   "id": "c5fc13ff",
   "metadata": {},
   "outputs": [
    {
     "name": "stdout",
     "output_type": "stream",
     "text": [
      "average error under misspecified model:  0.3280910045127993\n",
      "average error under correctly specified model with optimal IV:  0.2503035411197404\n"
     ]
    }
   ],
   "source": [
    "print('average error under misspecified model: ', np.array(master['difference']).mean())\n",
    "print('average error under correctly specified model with optimal IV: ', np.array(master['difference_optimal']).mean())"
   ]
  },
  {
   "cell_type": "code",
   "execution_count": 150,
   "id": "62989fd8",
   "metadata": {},
   "outputs": [
    {
     "data": {
      "text/plain": [
       "<matplotlib.colorbar.Colorbar at 0x7fe1b928ffa0>"
      ]
     },
     "execution_count": 150,
     "metadata": {},
     "output_type": "execute_result"
    },
    {
     "data": {
      "image/png": "[encoded data removed]",
      "text/plain": [
       "<Figure size 288x288 with 2 Axes>"
      ]
     },
     "metadata": {
      "needs_background": "light"
     },
     "output_type": "display_data"
    }
   ],
   "source": [
    "single_market = product_data['market_ids'] == 0\n",
    "plt.colorbar(plt.matshow(diversions[single_market]))"
   ]
  },
  {
   "cell_type": "code",
   "execution_count": 125,
   "id": "6685bfe7",
   "metadata": {
    "scrolled": true
   },
   "outputs": [
    {
     "data": {
      "text/plain": [
       "array([[0.25223337, 0.25478478, 0.2492879 , 0.24369395],\n",
       "       [0.24526826, 0.24206389, 0.26498798, 0.24767987],\n",
       "       [0.24258774, 0.25069089, 0.24345399, 0.26326738],\n",
       "       [0.25047845, 0.24528188, 0.24005981, 0.26417986]])"
      ]
     },
     "execution_count": 125,
     "metadata": {},
     "output_type": "execute_result"
    }
   ],
   "source": [
    "T, J = 600, 4\n",
    "diversion_ratios.reshape((T, J, J)).mean(axis=0)"
   ]
  },
  {
   "cell_type": "markdown",
   "id": "b18fcd22",
   "metadata": {},
   "source": [
    "bootstrapped_results = updated_results.bootstrap(draws=100, seed=0)\n",
    "bounds = np.percentile(\n",
    "    bootstrapped_results.extract_diagonal_means(\n",
    "        bootstrapped_results.compute_diversion_ratios()\n",
    "    ),\n",
    "    q=[10, 90],\n",
    "    axis=0\n",
    ")\n",
    "table = pd.DataFrame(index=problem.unique_market_ids, data={\n",
    "    'Lower Bound': bounds[0].flatten(),\n",
    "    'Mean Own Elasticity': means.flatten(),\n",
    "    'Upper Bound': bounds[1].flatten()\n",
    "})\n",
    "table.round(2).head()"
   ]
  },
  {
   "cell_type": "markdown",
   "id": "5949d3aa",
   "metadata": {},
   "source": [
    "-------"
   ]
  },
  {
   "cell_type": "markdown",
   "id": "7de028ca",
   "metadata": {},
   "source": [
    "# Part 5 (Q10, Q11, Q12, Q13, Q14, Q15)"
   ]
  },
  {
   "cell_type": "markdown",
   "id": "c84fadcc",
   "metadata": {},
   "source": [
    "# Q10. "
   ]
  },
  {
   "cell_type": "markdown",
   "id": "69474a70",
   "metadata": {},
   "source": [
    "* Assume that firm 1 and 2 decided to get merged. Before the merge, firm 1's price came from the following Bertrand-Nash first order condition: \n",
    "\n",
    "$$\\frac{\\partial \\pi_1}{\\partial p_1} = s_1(p) + (p_1 - mc_1)\\frac{\\partial s_1(p)}{\\partial p_1} \\overset{!}{=} 0\n",
    "$$\n",
    "\n",
    "* However, after the merger, profit of firm 2 is internalized to firm 1 as follows:\n",
    "\n",
    "$$\\frac{\\partial (\\pi_1 + \\pi_2)}{\\partial p_1} = s_1(p) + (p_1 - mc_1)\\frac{\\partial s_1(p)}{\\partial p_1} + \\underbrace{(p_2 - mc_2)\\frac{\\partial s_2(p)}{\\partial p_1}}_{internalized}\\overset{!}{=} 0\n",
    "$$\n",
    "\n",
    "* Hence, if increase in $p_1$ elevates $s_2$, firm 1 has an incentive to increase its price level $p_1$ after the merge. If the two products 1 and 2 were a close substitutes, increase in $p_1$ is more feasible.  \n",
    "\n",
    "* After the price increase of firm 1, firm 3 and firm 4 could have incentive to increase their price levels. Because, increase in $p_1$ could elevate their market shares and with the increased market share each of the firm 3 and firm 4 has an incentive to increase their price levels following their own Bertrand-Nash first order conditions."
   ]
  },
  {
   "cell_type": "markdown",
   "id": "b0455998",
   "metadata": {},
   "source": [
    "# Q11. "
   ]
  },
  {
   "cell_type": "code",
   "execution_count": 47,
   "id": "4f94f85b",
   "metadata": {},
   "outputs": [
    {
     "name": "stdout",
     "output_type": "stream",
     "text": [
      "Computing marginal costs ...\n",
      "Finished after 00:00:00.\n",
      "\n",
      "Computing HHI ...\n",
      "Finished after 00:00:00.\n",
      "\n",
      "Computing profits ...\n",
      "Finished after 00:00:00.\n",
      "\n",
      "Computing consumer surpluses with the equation that assumes away nonlinear income effects ...\n",
      "Finished after 00:00:00.\n",
      "\n"
     ]
    }
   ],
   "source": [
    "costs = updated_results.compute_costs()\n",
    "hhi = updated_results.compute_hhi()\n",
    "profits = updated_results.compute_profits(costs=costs)\n",
    "cs = updated_results.compute_consumer_surpluses()"
   ]
  },
  {
   "cell_type": "code",
   "execution_count": 48,
   "id": "40851048",
   "metadata": {},
   "outputs": [
    {
     "name": "stdout",
     "output_type": "stream",
     "text": [
      "Solving for equilibrium prices ...\n",
      "Finished after 00:00:01.\n",
      "\n"
     ]
    },
    {
     "data": {
      "text/html": [
       "<div>\n",
       "<style scoped>\n",
       "    .dataframe tbody tr th:only-of-type {\n",
       "        vertical-align: middle;\n",
       "    }\n",
       "\n",
       "    .dataframe tbody tr th {\n",
       "        vertical-align: top;\n",
       "    }\n",
       "\n",
       "    .dataframe thead th {\n",
       "        text-align: right;\n",
       "    }\n",
       "</style>\n",
       "<table border=\"1\" class=\"dataframe\">\n",
       "  <thead>\n",
       "    <tr style=\"text-align: right;\">\n",
       "      <th></th>\n",
       "      <th>prices</th>\n",
       "      <th>price_merge1</th>\n",
       "      <th>price_increase1</th>\n",
       "    </tr>\n",
       "  </thead>\n",
       "  <tbody>\n",
       "    <tr>\n",
       "      <th>0</th>\n",
       "      <td>3.549269</td>\n",
       "      <td>3.842045</td>\n",
       "      <td>0.292776</td>\n",
       "    </tr>\n",
       "    <tr>\n",
       "      <th>1</th>\n",
       "      <td>2.455426</td>\n",
       "      <td>2.650153</td>\n",
       "      <td>0.194727</td>\n",
       "    </tr>\n",
       "    <tr>\n",
       "      <th>2</th>\n",
       "      <td>2.870541</td>\n",
       "      <td>3.002023</td>\n",
       "      <td>0.131482</td>\n",
       "    </tr>\n",
       "    <tr>\n",
       "      <th>3</th>\n",
       "      <td>3.181449</td>\n",
       "      <td>3.446734</td>\n",
       "      <td>0.265284</td>\n",
       "    </tr>\n",
       "    <tr>\n",
       "      <th>4</th>\n",
       "      <td>2.663971</td>\n",
       "      <td>2.928279</td>\n",
       "      <td>0.264308</td>\n",
       "    </tr>\n",
       "    <tr>\n",
       "      <th>...</th>\n",
       "      <td>...</td>\n",
       "      <td>...</td>\n",
       "      <td>...</td>\n",
       "    </tr>\n",
       "    <tr>\n",
       "      <th>595</th>\n",
       "      <td>2.110721</td>\n",
       "      <td>2.123580</td>\n",
       "      <td>0.012859</td>\n",
       "    </tr>\n",
       "    <tr>\n",
       "      <th>596</th>\n",
       "      <td>3.353164</td>\n",
       "      <td>3.362969</td>\n",
       "      <td>0.009804</td>\n",
       "    </tr>\n",
       "    <tr>\n",
       "      <th>597</th>\n",
       "      <td>3.353391</td>\n",
       "      <td>3.358798</td>\n",
       "      <td>0.005407</td>\n",
       "    </tr>\n",
       "    <tr>\n",
       "      <th>598</th>\n",
       "      <td>2.657853</td>\n",
       "      <td>2.679459</td>\n",
       "      <td>0.021606</td>\n",
       "    </tr>\n",
       "    <tr>\n",
       "      <th>599</th>\n",
       "      <td>2.547939</td>\n",
       "      <td>2.554757</td>\n",
       "      <td>0.006818</td>\n",
       "    </tr>\n",
       "  </tbody>\n",
       "</table>\n",
       "<p>2400 rows × 3 columns</p>\n",
       "</div>"
      ],
      "text/plain": [
       "       prices  price_merge1  price_increase1\n",
       "0    3.549269      3.842045         0.292776\n",
       "1    2.455426      2.650153         0.194727\n",
       "2    2.870541      3.002023         0.131482\n",
       "3    3.181449      3.446734         0.265284\n",
       "4    2.663971      2.928279         0.264308\n",
       "..        ...           ...              ...\n",
       "595  2.110721      2.123580         0.012859\n",
       "596  3.353164      3.362969         0.009804\n",
       "597  3.353391      3.358798         0.005407\n",
       "598  2.657853      2.679459         0.021606\n",
       "599  2.547939      2.554757         0.006818\n",
       "\n",
       "[2400 rows x 3 columns]"
      ]
     },
     "execution_count": 48,
     "metadata": {},
     "output_type": "execute_result"
    }
   ],
   "source": [
    "product_data['merger_ids'] = product_data['firm_ids'].replace(2, 1)\n",
    "changed_prices = updated_results.compute_prices(firm_ids=product_data['merger_ids'],\n",
    "                                                costs=costs)\n",
    "product_data['price_merge1'] = changed_prices\n",
    "product_data['price_increase1'] = product_data['price_merge1'] - product_data['prices']\n",
    "product_data[['prices', 'price_merge1', 'price_increase1']]"
   ]
  },
  {
   "cell_type": "code",
   "execution_count": 49,
   "id": "441227b5",
   "metadata": {},
   "outputs": [
    {
     "name": "stdout",
     "output_type": "stream",
     "text": [
      "minimum price increase:  8.196556757322782e-06\n",
      "average price increase:  0.10600311085490788\n",
      "maximum price increase:  1.830842904996429\n"
     ]
    }
   ],
   "source": [
    "print(\"minimum price increase: \",np.array(product_data['price_increase1']).min())\n",
    "print(\"average price increase: \",np.array(product_data['price_increase1']).mean())\n",
    "print(\"maximum price increase: \",np.array(product_data['price_increase1']).max())"
   ]
  },
  {
   "cell_type": "markdown",
   "id": "b666c9b0",
   "metadata": {},
   "source": [
    "as predicted from the question 10, price is increased for all firms after the merge between firm 1 and 2."
   ]
  },
  {
   "cell_type": "code",
   "execution_count": 50,
   "id": "7686bf32",
   "metadata": {},
   "outputs": [
    {
     "name": "stdout",
     "output_type": "stream",
     "text": [
      "Computing consumer surpluses with the equation that assumes away nonlinear income effects ...\n",
      "Finished after 00:00:00.\n",
      "\n"
     ]
    },
    {
     "data": {
      "image/png": "[encoded data removed]",
      "text/plain": [
       "<Figure size 432x288 with 1 Axes>"
      ]
     },
     "metadata": {
      "needs_background": "light"
     },
     "output_type": "display_data"
    }
   ],
   "source": [
    "changed_cs1 = updated_results.compute_consumer_surpluses(changed_prices)\n",
    "plt.hist(changed_cs1 - cs, bins=50);\n",
    "plt.legend([\"Consumer Surplus Changes\"]);"
   ]
  },
  {
   "cell_type": "code",
   "execution_count": 62,
   "id": "842eb3de",
   "metadata": {},
   "outputs": [
    {
     "data": {
      "text/plain": [
       "-36.518466455259784"
      ]
     },
     "execution_count": 62,
     "metadata": {},
     "output_type": "execute_result"
    }
   ],
   "source": [
    "(changed_cs1 - cs).sum() "
   ]
  },
  {
   "cell_type": "markdown",
   "id": "4eb10493",
   "metadata": {},
   "source": [
    "# Q12."
   ]
  },
  {
   "cell_type": "code",
   "execution_count": 51,
   "id": "a9e3a21b",
   "metadata": {},
   "outputs": [
    {
     "name": "stdout",
     "output_type": "stream",
     "text": [
      "Solving for equilibrium prices ...\n",
      "Finished after 00:00:01.\n",
      "\n"
     ]
    },
    {
     "data": {
      "text/html": [
       "<div>\n",
       "<style scoped>\n",
       "    .dataframe tbody tr th:only-of-type {\n",
       "        vertical-align: middle;\n",
       "    }\n",
       "\n",
       "    .dataframe tbody tr th {\n",
       "        vertical-align: top;\n",
       "    }\n",
       "\n",
       "    .dataframe thead th {\n",
       "        text-align: right;\n",
       "    }\n",
       "</style>\n",
       "<table border=\"1\" class=\"dataframe\">\n",
       "  <thead>\n",
       "    <tr style=\"text-align: right;\">\n",
       "      <th></th>\n",
       "      <th>prices</th>\n",
       "      <th>price_merge2</th>\n",
       "      <th>price_increase2</th>\n",
       "    </tr>\n",
       "  </thead>\n",
       "  <tbody>\n",
       "    <tr>\n",
       "      <th>0</th>\n",
       "      <td>3.549269</td>\n",
       "      <td>3.853279</td>\n",
       "      <td>0.304010</td>\n",
       "    </tr>\n",
       "    <tr>\n",
       "      <th>1</th>\n",
       "      <td>2.455426</td>\n",
       "      <td>2.491563</td>\n",
       "      <td>0.036137</td>\n",
       "    </tr>\n",
       "    <tr>\n",
       "      <th>2</th>\n",
       "      <td>2.870541</td>\n",
       "      <td>2.882034</td>\n",
       "      <td>0.011493</td>\n",
       "    </tr>\n",
       "    <tr>\n",
       "      <th>3</th>\n",
       "      <td>3.181449</td>\n",
       "      <td>3.297320</td>\n",
       "      <td>0.115870</td>\n",
       "    </tr>\n",
       "    <tr>\n",
       "      <th>4</th>\n",
       "      <td>2.663971</td>\n",
       "      <td>2.908335</td>\n",
       "      <td>0.244364</td>\n",
       "    </tr>\n",
       "    <tr>\n",
       "      <th>...</th>\n",
       "      <td>...</td>\n",
       "      <td>...</td>\n",
       "      <td>...</td>\n",
       "    </tr>\n",
       "    <tr>\n",
       "      <th>595</th>\n",
       "      <td>2.110721</td>\n",
       "      <td>2.130435</td>\n",
       "      <td>0.019714</td>\n",
       "    </tr>\n",
       "    <tr>\n",
       "      <th>596</th>\n",
       "      <td>3.353164</td>\n",
       "      <td>3.356466</td>\n",
       "      <td>0.003301</td>\n",
       "    </tr>\n",
       "    <tr>\n",
       "      <th>597</th>\n",
       "      <td>3.353391</td>\n",
       "      <td>3.359419</td>\n",
       "      <td>0.006029</td>\n",
       "    </tr>\n",
       "    <tr>\n",
       "      <th>598</th>\n",
       "      <td>2.657853</td>\n",
       "      <td>2.659854</td>\n",
       "      <td>0.002001</td>\n",
       "    </tr>\n",
       "    <tr>\n",
       "      <th>599</th>\n",
       "      <td>2.547939</td>\n",
       "      <td>2.612840</td>\n",
       "      <td>0.064901</td>\n",
       "    </tr>\n",
       "  </tbody>\n",
       "</table>\n",
       "<p>2400 rows × 3 columns</p>\n",
       "</div>"
      ],
      "text/plain": [
       "       prices  price_merge2  price_increase2\n",
       "0    3.549269      3.853279         0.304010\n",
       "1    2.455426      2.491563         0.036137\n",
       "2    2.870541      2.882034         0.011493\n",
       "3    3.181449      3.297320         0.115870\n",
       "4    2.663971      2.908335         0.244364\n",
       "..        ...           ...              ...\n",
       "595  2.110721      2.130435         0.019714\n",
       "596  3.353164      3.356466         0.003301\n",
       "597  3.353391      3.359419         0.006029\n",
       "598  2.657853      2.659854         0.002001\n",
       "599  2.547939      2.612840         0.064901\n",
       "\n",
       "[2400 rows x 3 columns]"
      ]
     },
     "execution_count": 51,
     "metadata": {},
     "output_type": "execute_result"
    }
   ],
   "source": [
    "product_data['merger_ids2'] = product_data['firm_ids'].replace(3, 1)\n",
    "changed_prices2 = updated_results.compute_prices(firm_ids=product_data['merger_ids2'],\n",
    "                                                 costs=costs)\n",
    "product_data['price_merge2'] = changed_prices2\n",
    "product_data['price_increase2'] = product_data['price_merge2'] - product_data['prices']\n",
    "product_data[['prices', 'price_merge2', 'price_increase2']]"
   ]
  },
  {
   "cell_type": "code",
   "execution_count": 52,
   "id": "7cfe06bf",
   "metadata": {},
   "outputs": [
    {
     "name": "stdout",
     "output_type": "stream",
     "text": [
      "minimum price increase:  3.283485683036602e-05\n",
      "average price increase:  0.06302816826069384\n",
      "maximum price increase:  0.6680451223101582\n"
     ]
    }
   ],
   "source": [
    "print(\"minimum price increase: \",np.array(product_data['price_increase2']).min())\n",
    "print(\"average price increase: \",np.array(product_data['price_increase2']).mean())\n",
    "print(\"maximum price increase: \",np.array(product_data['price_increase2']).max())"
   ]
  },
  {
   "cell_type": "code",
   "execution_count": 53,
   "id": "53718cdf",
   "metadata": {
    "scrolled": true
   },
   "outputs": [
    {
     "name": "stdout",
     "output_type": "stream",
     "text": [
      "Computing consumer surpluses with the equation that assumes away nonlinear income effects ...\n",
      "Finished after 00:00:00.\n",
      "\n"
     ]
    },
    {
     "data": {
      "image/png": "[encoded data removed]",
      "text/plain": [
       "<Figure size 432x288 with 1 Axes>"
      ]
     },
     "metadata": {
      "needs_background": "light"
     },
     "output_type": "display_data"
    }
   ],
   "source": [
    "changed_cs2 = updated_results.compute_consumer_surpluses(changed_prices2)\n",
    "plt.hist(changed_cs2 - cs, bins=50);\n",
    "plt.legend([\"Consumer Surplus Changes\"]);"
   ]
  },
  {
   "cell_type": "code",
   "execution_count": 63,
   "id": "98fa3a02",
   "metadata": {},
   "outputs": [
    {
     "data": {
      "text/plain": [
       "-23.81873630443517"
      ]
     },
     "execution_count": 63,
     "metadata": {},
     "output_type": "execute_result"
    }
   ],
   "source": [
    "(changed_cs2 - cs).sum() "
   ]
  },
  {
   "cell_type": "markdown",
   "id": "401c6230",
   "metadata": {},
   "source": [
    "* Welfare change under merger case of Q11 is -36.518 whereas the change in welfare from the merger case of Q12 is -23.818. In other words, the negative impact on consumers is more severe under the merge between firm 1 and firm 2. \n",
    "\n",
    "* This is because the internalized value from the merger is greater in the case under Q10. So the merged firm has a more room to increase their price level. Which will lead to the increase in the price levels of the other two firms. "
   ]
  },
  {
   "cell_type": "markdown",
   "id": "1bad8980",
   "metadata": {},
   "source": [
    "# Q13."
   ]
  },
  {
   "cell_type": "markdown",
   "id": "8220a2f1",
   "metadata": {},
   "source": [
    "* Recall the firm 1's Bertrand Nash first order condition after merging with firm 2.  \n",
    "\n",
    "$$\\frac{\\partial (\\pi_1 + \\pi_2)}{\\partial p_1} = s_1(p) + \\overbrace{\\underbrace{(p_1 - mc_1)}_{(1)}\\underbrace{\\frac{\\partial s_1(p)}{\\partial p_1}}_{(a)} + \\underbrace{(p_2 - mc_2)}_{(2)}\\underbrace{\\frac{\\partial s_2(p)}{\\partial p_1}}_{(b)}}^{V}\\overset{!}{=} 0\n",
    "$$\n",
    "\n",
    "* With the efficiency from merge, terms (1) and (2) will increase. The magnitudes of the increases depend on the firms' initial marginal costs $mc_1$ and $mc_2$. For the simplicity, let's assume that $mc_1 = mc_2$. Holding the price level fixed (will elaborate more on the price level later on), (1) and (2) will increase by the same amount. However, we know that (a) + (b) < 0. Therefore, with the efficiency from merge, $V$ will have more negative value than before.  \n",
    "\n",
    "* Hence, to meet the first order condition, the merged firm(= firm1 + firm2) has an incentive to increase $s_1(p)$ and to decrease term (1) which can be achieved by lowering the price $p_1$. This logic applies to the firm 2 in the same manner. Therefore, reduction in costs from a merge could decrease the merged firms' price levels. \n",
    "\n",
    "\n",
    "$$\\frac{\\partial \\pi_3}{\\partial p_3} = \\underbrace{s_3(p)}_{A} + (p_3 - mc_3)\\underbrace{\\frac{\\partial s_3(p)}{\\partial p_3}}_{B} \\overset{!}{=} 0\n",
    "$$\n",
    "* When the merged firm decreases its price levels, the other two firms could have incentives to lower their prices to meet their first order conditions. (This depends on the values of A and B) \n",
    "\n",
    "* Hence, a merger-specific reduction in marginal cost could mean that a merger is welfare enhancing.\n",
    "\n"
   ]
  },
  {
   "cell_type": "markdown",
   "id": "247e300e",
   "metadata": {},
   "source": [
    "# Q14.  Q15."
   ]
  },
  {
   "cell_type": "code",
   "execution_count": 54,
   "id": "d583a710",
   "metadata": {},
   "outputs": [],
   "source": [
    "merger_costs = costs.copy()\n",
    "merger_costs[product_data.merger_ids==1] = 0.85*merger_costs[product_data.merger_ids==1]"
   ]
  },
  {
   "cell_type": "code",
   "execution_count": 55,
   "id": "4e62ee49",
   "metadata": {
    "scrolled": false
   },
   "outputs": [
    {
     "name": "stdout",
     "output_type": "stream",
     "text": [
      "Solving for equilibrium prices ...\n",
      "Finished after 00:00:01.\n",
      "\n"
     ]
    },
    {
     "data": {
      "text/html": [
       "<div>\n",
       "<style scoped>\n",
       "    .dataframe tbody tr th:only-of-type {\n",
       "        vertical-align: middle;\n",
       "    }\n",
       "\n",
       "    .dataframe tbody tr th {\n",
       "        vertical-align: top;\n",
       "    }\n",
       "\n",
       "    .dataframe thead th {\n",
       "        text-align: right;\n",
       "    }\n",
       "</style>\n",
       "<table border=\"1\" class=\"dataframe\">\n",
       "  <thead>\n",
       "    <tr style=\"text-align: right;\">\n",
       "      <th></th>\n",
       "      <th>prices</th>\n",
       "      <th>price_cost_reduction</th>\n",
       "      <th>price_increase3</th>\n",
       "    </tr>\n",
       "  </thead>\n",
       "  <tbody>\n",
       "    <tr>\n",
       "      <th>0</th>\n",
       "      <td>3.549269</td>\n",
       "      <td>3.483444</td>\n",
       "      <td>-0.065825</td>\n",
       "    </tr>\n",
       "    <tr>\n",
       "      <th>1</th>\n",
       "      <td>2.455426</td>\n",
       "      <td>2.501265</td>\n",
       "      <td>0.045839</td>\n",
       "    </tr>\n",
       "    <tr>\n",
       "      <th>2</th>\n",
       "      <td>2.870541</td>\n",
       "      <td>2.781338</td>\n",
       "      <td>-0.089202</td>\n",
       "    </tr>\n",
       "    <tr>\n",
       "      <th>3</th>\n",
       "      <td>3.181449</td>\n",
       "      <td>3.190805</td>\n",
       "      <td>0.009356</td>\n",
       "    </tr>\n",
       "    <tr>\n",
       "      <th>4</th>\n",
       "      <td>2.663971</td>\n",
       "      <td>2.732474</td>\n",
       "      <td>0.068503</td>\n",
       "    </tr>\n",
       "    <tr>\n",
       "      <th>...</th>\n",
       "      <td>...</td>\n",
       "      <td>...</td>\n",
       "      <td>...</td>\n",
       "    </tr>\n",
       "    <tr>\n",
       "      <th>595</th>\n",
       "      <td>2.110721</td>\n",
       "      <td>2.105786</td>\n",
       "      <td>-0.004936</td>\n",
       "    </tr>\n",
       "    <tr>\n",
       "      <th>596</th>\n",
       "      <td>3.353164</td>\n",
       "      <td>3.359481</td>\n",
       "      <td>0.006317</td>\n",
       "    </tr>\n",
       "    <tr>\n",
       "      <th>597</th>\n",
       "      <td>3.353391</td>\n",
       "      <td>3.356780</td>\n",
       "      <td>0.003390</td>\n",
       "    </tr>\n",
       "    <tr>\n",
       "      <th>598</th>\n",
       "      <td>2.657853</td>\n",
       "      <td>2.648422</td>\n",
       "      <td>-0.009431</td>\n",
       "    </tr>\n",
       "    <tr>\n",
       "      <th>599</th>\n",
       "      <td>2.547939</td>\n",
       "      <td>2.534883</td>\n",
       "      <td>-0.013056</td>\n",
       "    </tr>\n",
       "  </tbody>\n",
       "</table>\n",
       "<p>2400 rows × 3 columns</p>\n",
       "</div>"
      ],
      "text/plain": [
       "       prices  price_cost_reduction  price_increase3\n",
       "0    3.549269              3.483444        -0.065825\n",
       "1    2.455426              2.501265         0.045839\n",
       "2    2.870541              2.781338        -0.089202\n",
       "3    3.181449              3.190805         0.009356\n",
       "4    2.663971              2.732474         0.068503\n",
       "..        ...                   ...              ...\n",
       "595  2.110721              2.105786        -0.004936\n",
       "596  3.353164              3.359481         0.006317\n",
       "597  3.353391              3.356780         0.003390\n",
       "598  2.657853              2.648422        -0.009431\n",
       "599  2.547939              2.534883        -0.013056\n",
       "\n",
       "[2400 rows x 3 columns]"
      ]
     },
     "execution_count": 55,
     "metadata": {},
     "output_type": "execute_result"
    }
   ],
   "source": [
    "changed_prices3 = updated_results.compute_prices(firm_ids=product_data['merger_ids'],\n",
    "                                                costs=merger_costs)\n",
    "product_data['price_cost_reduction'] = changed_prices3\n",
    "product_data['price_increase3'] = product_data['price_cost_reduction'] - product_data['prices']\n",
    "product_data[['prices', 'price_cost_reduction', 'price_increase3']]"
   ]
  },
  {
   "cell_type": "code",
   "execution_count": 56,
   "id": "3a07246b",
   "metadata": {},
   "outputs": [
    {
     "name": "stdout",
     "output_type": "stream",
     "text": [
      "minimum price increase:  -0.38773413156467296\n",
      "average price increase:  -0.0030939991438001923\n",
      "maximum price increase:  1.7522728507120466\n"
     ]
    }
   ],
   "source": [
    "print(\"minimum price increase: \",np.array(product_data['price_increase3']).min())\n",
    "print(\"average price increase: \",np.array(product_data['price_increase3']).mean())\n",
    "print(\"maximum price increase: \",np.array(product_data['price_increase3']).max())"
   ]
  },
  {
   "cell_type": "code",
   "execution_count": 57,
   "id": "9e3d4903",
   "metadata": {},
   "outputs": [
    {
     "name": "stdout",
     "output_type": "stream",
     "text": [
      "Computing consumer surpluses with the equation that assumes away nonlinear income effects ...\n",
      "Finished after 00:00:00.\n",
      "\n"
     ]
    },
    {
     "data": {
      "image/png": "[encoded data removed]",
      "text/plain": [
       "<Figure size 432x288 with 1 Axes>"
      ]
     },
     "metadata": {
      "needs_background": "light"
     },
     "output_type": "display_data"
    }
   ],
   "source": [
    "changed_cs3 = updated_results.compute_consumer_surpluses(changed_prices3)\n",
    "plt.hist(changed_cs3 - cs, bins=50);\n",
    "plt.legend([\"Consumer Surplus Changes\"]);"
   ]
  },
  {
   "cell_type": "code",
   "execution_count": 68,
   "id": "d3f2dda4",
   "metadata": {},
   "outputs": [
    {
     "data": {
      "text/plain": [
       "6.346580269266329"
      ]
     },
     "execution_count": 68,
     "metadata": {},
     "output_type": "execute_result"
    }
   ],
   "source": [
    "(changed_cs3 - cs).sum()"
   ]
  },
  {
   "cell_type": "markdown",
   "id": "07adc5a3",
   "metadata": {},
   "source": [
    "* As predicted from the Q13, with reduction in costs from merge, consumer welfare increased by 6.346 compared to the previous economy."
   ]
  }
 ],
 "metadata": {
  "kernelspec": {
   "display_name": "Python 3 (ipykernel)",
   "language": "python",
   "name": "python3"
  },
  "language_info": {
   "codemirror_mode": {
    "name": "ipython",
    "version": 3
   },
   "file_extension": ".py",
   "mimetype": "text/x-python",
   "name": "python",
   "nbconvert_exporter": "python",
   "pygments_lexer": "ipython3",
   "version": "3.9.7"
  }
 },
 "nbformat": 4,
 "nbformat_minor": 5
}
